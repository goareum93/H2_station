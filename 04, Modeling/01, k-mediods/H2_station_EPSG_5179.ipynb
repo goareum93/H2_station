{
  "nbformat": 4,
  "nbformat_minor": 0,
  "metadata": {
    "colab": {
      "name": "H2_station_EPSG_5179.ipynb",
      "provenance": [],
      "collapsed_sections": []
    },
    "kernelspec": {
      "name": "python3",
      "display_name": "Python 3"
    },
    "language_info": {
      "name": "python"
    }
  },
  "cells": [
    {
      "cell_type": "code",
      "metadata": {
        "colab": {
          "base_uri": "https://localhost:8080/"
        },
        "id": "6YMrY9AyHStz",
        "outputId": "681a10a2-b7b8-471b-d805-98853da69270"
      },
      "source": [
        "pip install PyMySQL"
      ],
      "execution_count": 1,
      "outputs": [
        {
          "output_type": "stream",
          "name": "stdout",
          "text": [
            "Collecting PyMySQL\n",
            "  Downloading PyMySQL-1.0.2-py3-none-any.whl (43 kB)\n",
            "\u001b[?25l\r\u001b[K     |███████▌                        | 10 kB 21.9 MB/s eta 0:00:01\r\u001b[K     |███████████████                 | 20 kB 10.3 MB/s eta 0:00:01\r\u001b[K     |██████████████████████▍         | 30 kB 7.9 MB/s eta 0:00:01\r\u001b[K     |██████████████████████████████  | 40 kB 7.3 MB/s eta 0:00:01\r\u001b[K     |████████████████████████████████| 43 kB 998 kB/s \n",
            "\u001b[?25hInstalling collected packages: PyMySQL\n",
            "Successfully installed PyMySQL-1.0.2\n"
          ]
        }
      ]
    },
    {
      "cell_type": "code",
      "metadata": {
        "id": "jJWELpdTJYwS"
      },
      "source": [
        "import pymysql.cursors"
      ],
      "execution_count": 2,
      "outputs": []
    },
    {
      "cell_type": "code",
      "metadata": {
        "id": "ZikFuEEjJaXt"
      },
      "source": [
        "import pandas as pd"
      ],
      "execution_count": 3,
      "outputs": []
    },
    {
      "cell_type": "code",
      "metadata": {
        "colab": {
          "base_uri": "https://localhost:8080/"
        },
        "id": "NRjbwS9aJby9",
        "outputId": "86f80b1f-fe43-4208-c525-3177a2d60375"
      },
      "source": [
        "conn = pymysql.connect(host='15.164.148.106', user='pj', \n",
        "                       password='1234', db='testbook', charset='utf8',\n",
        "                       autocommit=True, cursorclass=pymysql.cursors.DictCursor)\n",
        "try:\n",
        "\n",
        "   with conn.cursor() as curs:\n",
        "      # sql = \"select * from 화재;\"\n",
        "      sql = \"SELECT * FROM testbook.전국_LPG충전소_현황_경도위도_3;\"\n",
        "      curs.execute(sql)\n",
        "      rs = curs.fetchall()\n",
        "\n",
        "      # DB에서 받아온 값을 DataFrame에 넣음\n",
        "\n",
        "      df = pd.DataFrame(rs)\n",
        "      print(df)\n",
        "    \n",
        "    #df.to_csv('query.csv')\n",
        "\n",
        "finally:\n",
        "\n",
        "   conn.close()               #day20,6.15 자료"
      ],
      "execution_count": 9,
      "outputs": [
        {
          "output_type": "stream",
          "name": "stdout",
          "text": [
            "     행정 구역            업소명                    소재지  ...        X        Y  CLSS\n",
            "0   서울 강남구        강남복지충전소  서울 강남구 자곡동 373-1 (1층)  ...   965118  1941979   정좌표\n",
            "1   서울 강남구        (주)진양가스       서울 강남구 도곡동 552-4  ...   958954  1943573   정좌표\n",
            "2   서울 강남구      대치에너지주식회사       서울 강남구 대치동 27-15  ...   962707  1944536   정좌표\n",
            "3   서울 강남구       남서울가스(주)        서울 강남구 대치동 21-1  ...   962482  1944366   정좌표\n",
            "4   서울 강남구       (주)수서에너지     서울 강남구 자곡동 204-1.3  ...   965804  1942510  인근좌표\n",
            "..     ...            ...                    ...  ...      ...      ...   ...\n",
            "79  부산 강서구         신명지에너지    부산 강서구 명지동 1498-2번지  ...  1130105  1678989   정좌표\n",
            "80  부산 강서구     르노삼성자동차(주)  부산 강서구 신호동 185번지(안전팀)  ...  1125411  1678593   정좌표\n",
            "81  부산 강서구          가락충전소       부산 강서구 죽동동 122-1  ...  1126544  1691241   정좌표\n",
            "82  부산 강서구  (주)삼성에너지대저충전소     부산 강서구 대저1동 2787-2  ...  1134241  1691077   정좌표\n",
            "83  부산 강서구     개인택시신공항충전소     부산 강서구 대저1동 3036-1  ...  1133468  1690243   정좌표\n",
            "\n",
            "[84 rows x 8 columns]\n"
          ]
        }
      ]
    },
    {
      "cell_type": "code",
      "metadata": {
        "colab": {
          "base_uri": "https://localhost:8080/",
          "height": 416
        },
        "id": "3vu2lfo-Jfyv",
        "outputId": "edc1823c-05e4-41ff-aeab-265958b1f115"
      },
      "source": [
        "df"
      ],
      "execution_count": 10,
      "outputs": [
        {
          "output_type": "execute_result",
          "data": {
            "text/html": [
              "<div>\n",
              "<style scoped>\n",
              "    .dataframe tbody tr th:only-of-type {\n",
              "        vertical-align: middle;\n",
              "    }\n",
              "\n",
              "    .dataframe tbody tr th {\n",
              "        vertical-align: top;\n",
              "    }\n",
              "\n",
              "    .dataframe thead th {\n",
              "        text-align: right;\n",
              "    }\n",
              "</style>\n",
              "<table border=\"1\" class=\"dataframe\">\n",
              "  <thead>\n",
              "    <tr style=\"text-align: right;\">\n",
              "      <th></th>\n",
              "      <th>행정 구역</th>\n",
              "      <th>업소명</th>\n",
              "      <th>소재지</th>\n",
              "      <th>관리구분</th>\n",
              "      <th>입력주소</th>\n",
              "      <th>X</th>\n",
              "      <th>Y</th>\n",
              "      <th>CLSS</th>\n",
              "    </tr>\n",
              "  </thead>\n",
              "  <tbody>\n",
              "    <tr>\n",
              "      <th>0</th>\n",
              "      <td>서울 강남구</td>\n",
              "      <td>강남복지충전소</td>\n",
              "      <td>서울 강남구 자곡동 373-1 (1층)</td>\n",
              "      <td>자동차충전</td>\n",
              "      <td>서울 강남구 자곡동 373-1 (1층)</td>\n",
              "      <td>965118</td>\n",
              "      <td>1941979</td>\n",
              "      <td>정좌표</td>\n",
              "    </tr>\n",
              "    <tr>\n",
              "      <th>1</th>\n",
              "      <td>서울 강남구</td>\n",
              "      <td>(주)진양가스</td>\n",
              "      <td>서울 강남구 도곡동 552-4</td>\n",
              "      <td>자동차충전</td>\n",
              "      <td>서울 강남구 도곡동 552-4</td>\n",
              "      <td>958954</td>\n",
              "      <td>1943573</td>\n",
              "      <td>정좌표</td>\n",
              "    </tr>\n",
              "    <tr>\n",
              "      <th>2</th>\n",
              "      <td>서울 강남구</td>\n",
              "      <td>대치에너지주식회사</td>\n",
              "      <td>서울 강남구 대치동 27-15</td>\n",
              "      <td>자동차충전</td>\n",
              "      <td>서울 강남구 대치동 27-15</td>\n",
              "      <td>962707</td>\n",
              "      <td>1944536</td>\n",
              "      <td>정좌표</td>\n",
              "    </tr>\n",
              "    <tr>\n",
              "      <th>3</th>\n",
              "      <td>서울 강남구</td>\n",
              "      <td>남서울가스(주)</td>\n",
              "      <td>서울 강남구 대치동 21-1</td>\n",
              "      <td>용기+자동차+13kg용기</td>\n",
              "      <td>서울 강남구 대치동 21-1</td>\n",
              "      <td>962482</td>\n",
              "      <td>1944366</td>\n",
              "      <td>정좌표</td>\n",
              "    </tr>\n",
              "    <tr>\n",
              "      <th>4</th>\n",
              "      <td>서울 강남구</td>\n",
              "      <td>(주)수서에너지</td>\n",
              "      <td>서울 강남구 자곡동 204-1.3</td>\n",
              "      <td>자동차충전</td>\n",
              "      <td>서울 강남구 자곡동 204-1.3</td>\n",
              "      <td>965804</td>\n",
              "      <td>1942510</td>\n",
              "      <td>인근좌표</td>\n",
              "    </tr>\n",
              "    <tr>\n",
              "      <th>...</th>\n",
              "      <td>...</td>\n",
              "      <td>...</td>\n",
              "      <td>...</td>\n",
              "      <td>...</td>\n",
              "      <td>...</td>\n",
              "      <td>...</td>\n",
              "      <td>...</td>\n",
              "      <td>...</td>\n",
              "    </tr>\n",
              "    <tr>\n",
              "      <th>79</th>\n",
              "      <td>부산 강서구</td>\n",
              "      <td>신명지에너지</td>\n",
              "      <td>부산 강서구 명지동 1498-2번지</td>\n",
              "      <td>자동차충전</td>\n",
              "      <td>부산 강서구 명지동 1498-2번지</td>\n",
              "      <td>1130105</td>\n",
              "      <td>1678989</td>\n",
              "      <td>정좌표</td>\n",
              "    </tr>\n",
              "    <tr>\n",
              "      <th>80</th>\n",
              "      <td>부산 강서구</td>\n",
              "      <td>르노삼성자동차(주)</td>\n",
              "      <td>부산 강서구 신호동 185번지(안전팀)</td>\n",
              "      <td>자동차충전</td>\n",
              "      <td>부산 강서구 신호동 185번지(안전팀)</td>\n",
              "      <td>1125411</td>\n",
              "      <td>1678593</td>\n",
              "      <td>정좌표</td>\n",
              "    </tr>\n",
              "    <tr>\n",
              "      <th>81</th>\n",
              "      <td>부산 강서구</td>\n",
              "      <td>가락충전소</td>\n",
              "      <td>부산 강서구 죽동동 122-1</td>\n",
              "      <td>자동차충전</td>\n",
              "      <td>부산 강서구 죽동동 122-1</td>\n",
              "      <td>1126544</td>\n",
              "      <td>1691241</td>\n",
              "      <td>정좌표</td>\n",
              "    </tr>\n",
              "    <tr>\n",
              "      <th>82</th>\n",
              "      <td>부산 강서구</td>\n",
              "      <td>(주)삼성에너지대저충전소</td>\n",
              "      <td>부산 강서구 대저1동 2787-2</td>\n",
              "      <td>자동차충전</td>\n",
              "      <td>부산 강서구 대저1동 2787-2</td>\n",
              "      <td>1134241</td>\n",
              "      <td>1691077</td>\n",
              "      <td>정좌표</td>\n",
              "    </tr>\n",
              "    <tr>\n",
              "      <th>83</th>\n",
              "      <td>부산 강서구</td>\n",
              "      <td>개인택시신공항충전소</td>\n",
              "      <td>부산 강서구 대저1동 3036-1</td>\n",
              "      <td>자동차충전</td>\n",
              "      <td>부산 강서구 대저1동 3036-1</td>\n",
              "      <td>1133468</td>\n",
              "      <td>1690243</td>\n",
              "      <td>정좌표</td>\n",
              "    </tr>\n",
              "  </tbody>\n",
              "</table>\n",
              "<p>84 rows × 8 columns</p>\n",
              "</div>"
            ],
            "text/plain": [
              "     행정 구역            업소명                    소재지  ...        X        Y  CLSS\n",
              "0   서울 강남구        강남복지충전소  서울 강남구 자곡동 373-1 (1층)  ...   965118  1941979   정좌표\n",
              "1   서울 강남구        (주)진양가스       서울 강남구 도곡동 552-4  ...   958954  1943573   정좌표\n",
              "2   서울 강남구      대치에너지주식회사       서울 강남구 대치동 27-15  ...   962707  1944536   정좌표\n",
              "3   서울 강남구       남서울가스(주)        서울 강남구 대치동 21-1  ...   962482  1944366   정좌표\n",
              "4   서울 강남구       (주)수서에너지     서울 강남구 자곡동 204-1.3  ...   965804  1942510  인근좌표\n",
              "..     ...            ...                    ...  ...      ...      ...   ...\n",
              "79  부산 강서구         신명지에너지    부산 강서구 명지동 1498-2번지  ...  1130105  1678989   정좌표\n",
              "80  부산 강서구     르노삼성자동차(주)  부산 강서구 신호동 185번지(안전팀)  ...  1125411  1678593   정좌표\n",
              "81  부산 강서구          가락충전소       부산 강서구 죽동동 122-1  ...  1126544  1691241   정좌표\n",
              "82  부산 강서구  (주)삼성에너지대저충전소     부산 강서구 대저1동 2787-2  ...  1134241  1691077   정좌표\n",
              "83  부산 강서구     개인택시신공항충전소     부산 강서구 대저1동 3036-1  ...  1133468  1690243   정좌표\n",
              "\n",
              "[84 rows x 8 columns]"
            ]
          },
          "metadata": {},
          "execution_count": 10
        }
      ]
    },
    {
      "cell_type": "code",
      "metadata": {
        "colab": {
          "base_uri": "https://localhost:8080/",
          "height": 416
        },
        "id": "QLSGQDXkRb-P",
        "outputId": "bbc149a4-08d1-41a2-f059-1551afaf3406"
      },
      "source": [
        "df = df[df['행정 구역'].str.contains('서울')]\n",
        "df"
      ],
      "execution_count": 28,
      "outputs": [
        {
          "output_type": "execute_result",
          "data": {
            "text/html": [
              "<div>\n",
              "<style scoped>\n",
              "    .dataframe tbody tr th:only-of-type {\n",
              "        vertical-align: middle;\n",
              "    }\n",
              "\n",
              "    .dataframe tbody tr th {\n",
              "        vertical-align: top;\n",
              "    }\n",
              "\n",
              "    .dataframe thead th {\n",
              "        text-align: right;\n",
              "    }\n",
              "</style>\n",
              "<table border=\"1\" class=\"dataframe\">\n",
              "  <thead>\n",
              "    <tr style=\"text-align: right;\">\n",
              "      <th></th>\n",
              "      <th>행정 구역</th>\n",
              "      <th>업소명</th>\n",
              "      <th>소재지</th>\n",
              "      <th>관리구분</th>\n",
              "      <th>입력주소</th>\n",
              "      <th>X</th>\n",
              "      <th>Y</th>\n",
              "      <th>CLSS</th>\n",
              "    </tr>\n",
              "  </thead>\n",
              "  <tbody>\n",
              "    <tr>\n",
              "      <th>0</th>\n",
              "      <td>서울 강남구</td>\n",
              "      <td>강남복지충전소</td>\n",
              "      <td>서울 강남구 자곡동 373-1 (1층)</td>\n",
              "      <td>자동차충전</td>\n",
              "      <td>서울 강남구 자곡동 373-1 (1층)</td>\n",
              "      <td>965118</td>\n",
              "      <td>1941979</td>\n",
              "      <td>정좌표</td>\n",
              "    </tr>\n",
              "    <tr>\n",
              "      <th>1</th>\n",
              "      <td>서울 강남구</td>\n",
              "      <td>(주)진양가스</td>\n",
              "      <td>서울 강남구 도곡동 552-4</td>\n",
              "      <td>자동차충전</td>\n",
              "      <td>서울 강남구 도곡동 552-4</td>\n",
              "      <td>958954</td>\n",
              "      <td>1943573</td>\n",
              "      <td>정좌표</td>\n",
              "    </tr>\n",
              "    <tr>\n",
              "      <th>2</th>\n",
              "      <td>서울 강남구</td>\n",
              "      <td>대치에너지주식회사</td>\n",
              "      <td>서울 강남구 대치동 27-15</td>\n",
              "      <td>자동차충전</td>\n",
              "      <td>서울 강남구 대치동 27-15</td>\n",
              "      <td>962707</td>\n",
              "      <td>1944536</td>\n",
              "      <td>정좌표</td>\n",
              "    </tr>\n",
              "    <tr>\n",
              "      <th>3</th>\n",
              "      <td>서울 강남구</td>\n",
              "      <td>남서울가스(주)</td>\n",
              "      <td>서울 강남구 대치동 21-1</td>\n",
              "      <td>용기+자동차+13kg용기</td>\n",
              "      <td>서울 강남구 대치동 21-1</td>\n",
              "      <td>962482</td>\n",
              "      <td>1944366</td>\n",
              "      <td>정좌표</td>\n",
              "    </tr>\n",
              "    <tr>\n",
              "      <th>4</th>\n",
              "      <td>서울 강남구</td>\n",
              "      <td>(주)수서에너지</td>\n",
              "      <td>서울 강남구 자곡동 204-1.3</td>\n",
              "      <td>자동차충전</td>\n",
              "      <td>서울 강남구 자곡동 204-1.3</td>\n",
              "      <td>965804</td>\n",
              "      <td>1942510</td>\n",
              "      <td>인근좌표</td>\n",
              "    </tr>\n",
              "    <tr>\n",
              "      <th>...</th>\n",
              "      <td>...</td>\n",
              "      <td>...</td>\n",
              "      <td>...</td>\n",
              "      <td>...</td>\n",
              "      <td>...</td>\n",
              "      <td>...</td>\n",
              "      <td>...</td>\n",
              "      <td>...</td>\n",
              "    </tr>\n",
              "    <tr>\n",
              "      <th>74</th>\n",
              "      <td>서울 은평구</td>\n",
              "      <td>은평서부충전소</td>\n",
              "      <td>서울 은평구 진관동 35 (은평서부충전소 제1동)</td>\n",
              "      <td>자동차충전</td>\n",
              "      <td>서울 은평구 진관동 35 (은평서부충전소 제1동)</td>\n",
              "      <td>948940</td>\n",
              "      <td>1960623</td>\n",
              "      <td>정좌표</td>\n",
              "    </tr>\n",
              "    <tr>\n",
              "      <th>75</th>\n",
              "      <td>서울 중랑구</td>\n",
              "      <td>신내LPG충전소</td>\n",
              "      <td>서울 중랑구 신내동 317-7</td>\n",
              "      <td>자동차충전</td>\n",
              "      <td>서울 중랑구 신내동 317-7</td>\n",
              "      <td>964532</td>\n",
              "      <td>1957238</td>\n",
              "      <td>정좌표</td>\n",
              "    </tr>\n",
              "    <tr>\n",
              "      <th>76</th>\n",
              "      <td>서울 중랑구</td>\n",
              "      <td>(주)풍림에너지</td>\n",
              "      <td>서울 중랑구 면목5동 169-6</td>\n",
              "      <td>자동차충전</td>\n",
              "      <td>서울 중랑구 면목5동 169-6</td>\n",
              "      <td>962854</td>\n",
              "      <td>1953441</td>\n",
              "      <td>정좌표</td>\n",
              "    </tr>\n",
              "    <tr>\n",
              "      <th>77</th>\n",
              "      <td>서울 중랑구</td>\n",
              "      <td>동일석유(주)황금충전소</td>\n",
              "      <td>서울 중랑구 중화2동 208-11</td>\n",
              "      <td>자동차충전</td>\n",
              "      <td>서울 중랑구 중화2동 208-11</td>\n",
              "      <td>962560</td>\n",
              "      <td>1955060</td>\n",
              "      <td>정좌표</td>\n",
              "    </tr>\n",
              "    <tr>\n",
              "      <th>78</th>\n",
              "      <td>서울 중랑구</td>\n",
              "      <td>망우충전소</td>\n",
              "      <td>서울 중랑구 망우1동 340-16</td>\n",
              "      <td>자동차충전</td>\n",
              "      <td>서울 중랑구 망우1동 340-16</td>\n",
              "      <td>964860</td>\n",
              "      <td>1955760</td>\n",
              "      <td>정좌표</td>\n",
              "    </tr>\n",
              "  </tbody>\n",
              "</table>\n",
              "<p>79 rows × 8 columns</p>\n",
              "</div>"
            ],
            "text/plain": [
              "     행정 구역           업소명                          소재지  ...       X        Y  CLSS\n",
              "0   서울 강남구       강남복지충전소        서울 강남구 자곡동 373-1 (1층)  ...  965118  1941979   정좌표\n",
              "1   서울 강남구       (주)진양가스             서울 강남구 도곡동 552-4  ...  958954  1943573   정좌표\n",
              "2   서울 강남구     대치에너지주식회사             서울 강남구 대치동 27-15  ...  962707  1944536   정좌표\n",
              "3   서울 강남구      남서울가스(주)              서울 강남구 대치동 21-1  ...  962482  1944366   정좌표\n",
              "4   서울 강남구      (주)수서에너지           서울 강남구 자곡동 204-1.3  ...  965804  1942510  인근좌표\n",
              "..     ...           ...                          ...  ...     ...      ...   ...\n",
              "74  서울 은평구       은평서부충전소  서울 은평구 진관동 35 (은평서부충전소 제1동)  ...  948940  1960623   정좌표\n",
              "75  서울 중랑구      신내LPG충전소             서울 중랑구 신내동 317-7  ...  964532  1957238   정좌표\n",
              "76  서울 중랑구      (주)풍림에너지            서울 중랑구 면목5동 169-6  ...  962854  1953441   정좌표\n",
              "77  서울 중랑구  동일석유(주)황금충전소           서울 중랑구 중화2동 208-11  ...  962560  1955060   정좌표\n",
              "78  서울 중랑구         망우충전소           서울 중랑구 망우1동 340-16  ...  964860  1955760   정좌표\n",
              "\n",
              "[79 rows x 8 columns]"
            ]
          },
          "metadata": {},
          "execution_count": 28
        }
      ]
    },
    {
      "cell_type": "code",
      "metadata": {
        "id": "6LBOf7brKYaG"
      },
      "source": [
        "from sklearn.preprocessing import scale\n",
        "from sklearn.datasets import load_iris\n",
        "from sklearn.cluster import KMeans\n",
        "import matplotlib.pyplot as plt\n",
        "import numpy as np\n",
        "import pandas as pd\n",
        "%matplotlib inline"
      ],
      "execution_count": 11,
      "outputs": []
    },
    {
      "cell_type": "code",
      "metadata": {
        "colab": {
          "base_uri": "https://localhost:8080/",
          "height": 416
        },
        "id": "HOIITAF5MpPr",
        "outputId": "b5f95c93-3eed-4f41-8b9e-afb99f97e05b"
      },
      "source": [
        "df_lpg = df[['X','Y']]\n",
        "df_lpg"
      ],
      "execution_count": 29,
      "outputs": [
        {
          "output_type": "execute_result",
          "data": {
            "text/html": [
              "<div>\n",
              "<style scoped>\n",
              "    .dataframe tbody tr th:only-of-type {\n",
              "        vertical-align: middle;\n",
              "    }\n",
              "\n",
              "    .dataframe tbody tr th {\n",
              "        vertical-align: top;\n",
              "    }\n",
              "\n",
              "    .dataframe thead th {\n",
              "        text-align: right;\n",
              "    }\n",
              "</style>\n",
              "<table border=\"1\" class=\"dataframe\">\n",
              "  <thead>\n",
              "    <tr style=\"text-align: right;\">\n",
              "      <th></th>\n",
              "      <th>X</th>\n",
              "      <th>Y</th>\n",
              "    </tr>\n",
              "  </thead>\n",
              "  <tbody>\n",
              "    <tr>\n",
              "      <th>0</th>\n",
              "      <td>965118</td>\n",
              "      <td>1941979</td>\n",
              "    </tr>\n",
              "    <tr>\n",
              "      <th>1</th>\n",
              "      <td>958954</td>\n",
              "      <td>1943573</td>\n",
              "    </tr>\n",
              "    <tr>\n",
              "      <th>2</th>\n",
              "      <td>962707</td>\n",
              "      <td>1944536</td>\n",
              "    </tr>\n",
              "    <tr>\n",
              "      <th>3</th>\n",
              "      <td>962482</td>\n",
              "      <td>1944366</td>\n",
              "    </tr>\n",
              "    <tr>\n",
              "      <th>4</th>\n",
              "      <td>965804</td>\n",
              "      <td>1942510</td>\n",
              "    </tr>\n",
              "    <tr>\n",
              "      <th>...</th>\n",
              "      <td>...</td>\n",
              "      <td>...</td>\n",
              "    </tr>\n",
              "    <tr>\n",
              "      <th>74</th>\n",
              "      <td>948940</td>\n",
              "      <td>1960623</td>\n",
              "    </tr>\n",
              "    <tr>\n",
              "      <th>75</th>\n",
              "      <td>964532</td>\n",
              "      <td>1957238</td>\n",
              "    </tr>\n",
              "    <tr>\n",
              "      <th>76</th>\n",
              "      <td>962854</td>\n",
              "      <td>1953441</td>\n",
              "    </tr>\n",
              "    <tr>\n",
              "      <th>77</th>\n",
              "      <td>962560</td>\n",
              "      <td>1955060</td>\n",
              "    </tr>\n",
              "    <tr>\n",
              "      <th>78</th>\n",
              "      <td>964860</td>\n",
              "      <td>1955760</td>\n",
              "    </tr>\n",
              "  </tbody>\n",
              "</table>\n",
              "<p>79 rows × 2 columns</p>\n",
              "</div>"
            ],
            "text/plain": [
              "         X        Y\n",
              "0   965118  1941979\n",
              "1   958954  1943573\n",
              "2   962707  1944536\n",
              "3   962482  1944366\n",
              "4   965804  1942510\n",
              "..     ...      ...\n",
              "74  948940  1960623\n",
              "75  964532  1957238\n",
              "76  962854  1953441\n",
              "77  962560  1955060\n",
              "78  964860  1955760\n",
              "\n",
              "[79 rows x 2 columns]"
            ]
          },
          "metadata": {},
          "execution_count": 29
        }
      ]
    },
    {
      "cell_type": "code",
      "metadata": {
        "id": "MX3yr7WyTUd7"
      },
      "source": [
        ""
      ],
      "execution_count": null,
      "outputs": []
    },
    {
      "cell_type": "code",
      "metadata": {
        "colab": {
          "base_uri": "https://localhost:8080/"
        },
        "id": "h4HOIoLPMdGX",
        "outputId": "f4661c2a-4794-4422-bda2-4fa7af7bd50c"
      },
      "source": [
        "# 개정판 소스 코드 수정(2019.12.24)\n",
        "kmeans = KMeans(n_clusters=4, init='k-means++', max_iter=300,random_state=0)\n",
        "kmeans.fit(df_lpg)"
      ],
      "execution_count": 30,
      "outputs": [
        {
          "output_type": "execute_result",
          "data": {
            "text/plain": [
              "KMeans(algorithm='auto', copy_x=True, init='k-means++', max_iter=300,\n",
              "       n_clusters=4, n_init=10, n_jobs=None, precompute_distances='auto',\n",
              "       random_state=0, tol=0.0001, verbose=0)"
            ]
          },
          "metadata": {},
          "execution_count": 30
        }
      ]
    },
    {
      "cell_type": "code",
      "metadata": {
        "colab": {
          "base_uri": "https://localhost:8080/"
        },
        "id": "44eRdw8WMnVY",
        "outputId": "6e1f4769-6b7e-4044-e1bc-88e3a037a457"
      },
      "source": [
        "print(kmeans.labels_)"
      ],
      "execution_count": 31,
      "outputs": [
        {
          "output_type": "stream",
          "name": "stdout",
          "text": [
            "[3 3 3 3 3 3 3 3 3 2 2 2 1 1 1 1 1 1 1 1 1 1 1 1 0 0 3 3 3 1 1 0 0 0 0 2 2\n",
            " 2 2 2 2 2 2 2 2 2 2 3 0 1 0 3 0 0 3 3 3 2 2 3 3 3 3 0 1 1 1 1 1 0 0 0 1 1\n",
            " 2 2 2 2 2]\n"
          ]
        }
      ]
    },
    {
      "cell_type": "code",
      "metadata": {
        "colab": {
          "base_uri": "https://localhost:8080/",
          "height": 524
        },
        "id": "oX31Jw4BOnyJ",
        "outputId": "2cbbf4e3-4538-4736-9f08-65725cd89839"
      },
      "source": [
        "df_lpg['cluster'] = kmeans.labels_\n",
        "df_lpg"
      ],
      "execution_count": 32,
      "outputs": [
        {
          "output_type": "stream",
          "name": "stderr",
          "text": [
            "/usr/local/lib/python3.7/dist-packages/ipykernel_launcher.py:1: SettingWithCopyWarning: \n",
            "A value is trying to be set on a copy of a slice from a DataFrame.\n",
            "Try using .loc[row_indexer,col_indexer] = value instead\n",
            "\n",
            "See the caveats in the documentation: https://pandas.pydata.org/pandas-docs/stable/user_guide/indexing.html#returning-a-view-versus-a-copy\n",
            "  \"\"\"Entry point for launching an IPython kernel.\n"
          ]
        },
        {
          "output_type": "execute_result",
          "data": {
            "text/html": [
              "<div>\n",
              "<style scoped>\n",
              "    .dataframe tbody tr th:only-of-type {\n",
              "        vertical-align: middle;\n",
              "    }\n",
              "\n",
              "    .dataframe tbody tr th {\n",
              "        vertical-align: top;\n",
              "    }\n",
              "\n",
              "    .dataframe thead th {\n",
              "        text-align: right;\n",
              "    }\n",
              "</style>\n",
              "<table border=\"1\" class=\"dataframe\">\n",
              "  <thead>\n",
              "    <tr style=\"text-align: right;\">\n",
              "      <th></th>\n",
              "      <th>X</th>\n",
              "      <th>Y</th>\n",
              "      <th>cluster</th>\n",
              "    </tr>\n",
              "  </thead>\n",
              "  <tbody>\n",
              "    <tr>\n",
              "      <th>0</th>\n",
              "      <td>965118</td>\n",
              "      <td>1941979</td>\n",
              "      <td>3</td>\n",
              "    </tr>\n",
              "    <tr>\n",
              "      <th>1</th>\n",
              "      <td>958954</td>\n",
              "      <td>1943573</td>\n",
              "      <td>3</td>\n",
              "    </tr>\n",
              "    <tr>\n",
              "      <th>2</th>\n",
              "      <td>962707</td>\n",
              "      <td>1944536</td>\n",
              "      <td>3</td>\n",
              "    </tr>\n",
              "    <tr>\n",
              "      <th>3</th>\n",
              "      <td>962482</td>\n",
              "      <td>1944366</td>\n",
              "      <td>3</td>\n",
              "    </tr>\n",
              "    <tr>\n",
              "      <th>4</th>\n",
              "      <td>965804</td>\n",
              "      <td>1942510</td>\n",
              "      <td>3</td>\n",
              "    </tr>\n",
              "    <tr>\n",
              "      <th>...</th>\n",
              "      <td>...</td>\n",
              "      <td>...</td>\n",
              "      <td>...</td>\n",
              "    </tr>\n",
              "    <tr>\n",
              "      <th>74</th>\n",
              "      <td>948940</td>\n",
              "      <td>1960623</td>\n",
              "      <td>2</td>\n",
              "    </tr>\n",
              "    <tr>\n",
              "      <th>75</th>\n",
              "      <td>964532</td>\n",
              "      <td>1957238</td>\n",
              "      <td>2</td>\n",
              "    </tr>\n",
              "    <tr>\n",
              "      <th>76</th>\n",
              "      <td>962854</td>\n",
              "      <td>1953441</td>\n",
              "      <td>2</td>\n",
              "    </tr>\n",
              "    <tr>\n",
              "      <th>77</th>\n",
              "      <td>962560</td>\n",
              "      <td>1955060</td>\n",
              "      <td>2</td>\n",
              "    </tr>\n",
              "    <tr>\n",
              "      <th>78</th>\n",
              "      <td>964860</td>\n",
              "      <td>1955760</td>\n",
              "      <td>2</td>\n",
              "    </tr>\n",
              "  </tbody>\n",
              "</table>\n",
              "<p>79 rows × 3 columns</p>\n",
              "</div>"
            ],
            "text/plain": [
              "         X        Y  cluster\n",
              "0   965118  1941979        3\n",
              "1   958954  1943573        3\n",
              "2   962707  1944536        3\n",
              "3   962482  1944366        3\n",
              "4   965804  1942510        3\n",
              "..     ...      ...      ...\n",
              "74  948940  1960623        2\n",
              "75  964532  1957238        2\n",
              "76  962854  1953441        2\n",
              "77  962560  1955060        2\n",
              "78  964860  1955760        2\n",
              "\n",
              "[79 rows x 3 columns]"
            ]
          },
          "metadata": {},
          "execution_count": 32
        }
      ]
    },
    {
      "cell_type": "code",
      "metadata": {
        "colab": {
          "base_uri": "https://localhost:8080/"
        },
        "id": "TvCuAm6VXYb9",
        "outputId": "3c330487-f6b5-4b06-e42a-d72e4279b848"
      },
      "source": [
        "centers = kmeans.cluster_centers_\n",
        "centers"
      ],
      "execution_count": 36,
      "outputs": [
        {
          "output_type": "execute_result",
          "data": {
            "text/plain": [
              "array([[ 948526.        , 1944654.        ],\n",
              "       [ 941206.68181818, 1950185.72727273],\n",
              "       [ 960554.86363636, 1958640.18181818],\n",
              "       [ 963722.19047619, 1946709.80952381]])"
            ]
          },
          "metadata": {},
          "execution_count": 36
        }
      ]
    },
    {
      "cell_type": "code",
      "metadata": {
        "colab": {
          "base_uri": "https://localhost:8080/",
          "height": 295
        },
        "id": "hzuQQS7sOxZ9",
        "outputId": "244f0365-0cd1-4ced-fd06-07fec607d96f"
      },
      "source": [
        "# cluster 값이 0, 1, 2 인 경우마다 별도의 Index로 추출\n",
        "marker0_ind = df_lpg[df_lpg['cluster']==0].index\n",
        "marker1_ind = df_lpg[df_lpg['cluster']==1].index\n",
        "marker2_ind = df_lpg[df_lpg['cluster']==2].index\n",
        "marker3_ind = df_lpg[df_lpg['cluster']==3].index\n",
        "\n",
        "\n",
        "# cluster값 0, 1, 2에 해당하는 Index로 각 cluster 레벨의 X, Y 값 추출. o, s, ^ 로 marker 표시\n",
        "plt.scatter(x=df_lpg.loc[marker0_ind,'X'], y=df_lpg.loc[marker0_ind,'Y'], marker='o') \n",
        "plt.scatter(x=df_lpg.loc[marker1_ind,'X'], y=df_lpg.loc[marker1_ind,'Y'], marker='s')\n",
        "plt.scatter(x=df_lpg.loc[marker2_ind,'X'], y=df_lpg.loc[marker2_ind,'Y'], marker='^')\n",
        "plt.scatter(x=df_lpg.loc[marker3_ind,'X'], y=df_lpg.loc[marker3_ind,'Y'], marker='P')\n",
        "\n",
        "\n",
        "plt.xlabel('X')\n",
        "plt.ylabel('Y')\n",
        "plt.title('4 Clusters Visualization')\n",
        "plt.show()"
      ],
      "execution_count": 34,
      "outputs": [
        {
          "output_type": "display_data",
          "data": {
            "image/png": "[encoded data removed]",
            "text/plain": [
              "<Figure size 432x288 with 1 Axes>"
            ]
          },
          "metadata": {
            "needs_background": "light"
          }
        }
      ]
    },
    {
      "cell_type": "code",
      "metadata": {
        "colab": {
          "base_uri": "https://localhost:8080/",
          "height": 384
        },
        "id": "YciVIWziXZ20",
        "outputId": "6e9ecd7c-9b11-42bd-dacf-ee14a9200712"
      },
      "source": [
        "# KMeans 객체를 이용하여 X 데이터를 K-Means 클러스터링 수행 \n",
        "kmeans = KMeans(n_clusters=4, init='k-means++', max_iter=200, random_state=0)\n",
        "cluster_labels = kmeans.fit_predict(df_lpg)\n",
        "df_lpg['kmeans_label']  = cluster_labels\n",
        "\n",
        "#cluster_centers_ 는 개별 클러스터의 중심 위치 좌표 시각화를 위해 추출\n",
        "centers = kmeans.cluster_centers_\n",
        "unique_labels = np.unique(cluster_labels)\n",
        "markers=['o', 's', '^', 'P','D','H','x']\n",
        "\n",
        "# 군집된 label 유형별로 iteration 하면서 marker 별로 scatter plot 수행. \n",
        "for label in unique_labels:\n",
        "    label_cluster = df_lpg[df_lpg['kmeans_label']==label]\n",
        "    center_x_y = centers[label]\n",
        "    plt.scatter(x=label_cluster['X'], y=label_cluster['Y'], edgecolor='k', \n",
        "                marker=markers[label] )\n",
        "    \n",
        "    # 군집별 중심 위치 좌표 시각화 \n",
        "    plt.scatter(x=center_x_y[0], y=center_x_y[1], s=200, color='white',\n",
        "                alpha=0.9, edgecolor='k', marker=markers[label])\n",
        "    plt.scatter(x=center_x_y[0], y=center_x_y[1], s=70, color='k', edgecolor='k', \n",
        "                marker='$%d$' % label)\n",
        "\n",
        "plt.show()"
      ],
      "execution_count": 40,
      "outputs": [
        {
          "output_type": "stream",
          "name": "stderr",
          "text": [
            "/usr/local/lib/python3.7/dist-packages/ipykernel_launcher.py:4: SettingWithCopyWarning: \n",
            "A value is trying to be set on a copy of a slice from a DataFrame.\n",
            "Try using .loc[row_indexer,col_indexer] = value instead\n",
            "\n",
            "See the caveats in the documentation: https://pandas.pydata.org/pandas-docs/stable/user_guide/indexing.html#returning-a-view-versus-a-copy\n",
            "  after removing the cwd from sys.path.\n"
          ]
        },
        {
          "output_type": "display_data",
          "data": {
            "image/png": "[encoded data removed]",
            "text/plain": [
              "<Figure size 432x288 with 1 Axes>"
            ]
          },
          "metadata": {
            "needs_background": "light"
          }
        }
      ]
    },
    {
      "cell_type": "code",
      "metadata": {
        "id": "0kY0qitsbW1U"
      },
      "source": [
        "import matplotlib as mpl\n",
        "import matplotlib.pyplot as plt\n",
        "import seaborn as sns\n",
        "import missingno as msno\n",
        "import folium"
      ],
      "execution_count": 41,
      "outputs": []
    },
    {
      "cell_type": "code",
      "metadata": {
        "id": "thtfVWhhcm0h"
      },
      "source": [
        ""
      ],
      "execution_count": null,
      "outputs": []
    },
    {
      "cell_type": "code",
      "metadata": {
        "id": "WHZpYe1FbYs-"
      },
      "source": [
        "map=folium.Map(location=[df_lpg['Y'].mean(),df_lpg['X'].mean()], zoom_start=11.5 )"
      ],
      "execution_count": 46,
      "outputs": []
    },
    {
      "cell_type": "code",
      "metadata": {
        "colab": {
          "base_uri": "https://localhost:8080/",
          "height": 1000
        },
        "id": "p2f_R7qhb5Pp",
        "outputId": "f59aea1f-e0cb-4a78-ca70-130b07752705"
      },
      "source": [
        "map"
      ],
      "execution_count": 47,
      "outputs": [
        {
          "output_type": "execute_result",
          "data": {
            "text/html": [
              "<div style=\"width:100%;\"><div style=\"position:relative;width:100%;height:0;padding-bottom:60%;\"><span style=\"color:#565656\">Make this Notebook Trusted to load map: File -> Trust Notebook</span><iframe src=\"about:blank\" style=\"position:absolute;width:100%;height:100%;left:0;top:0;border:none !important;\" data-html=%3C%21DOCTYPE%20html%3E%0A%3Chead%3E%20%20%20%20%0A%20%20%20%20%3Cmeta%20http-equiv%3D%22content-type%22%20content%3D%22text/html%3B%20charset%3DUTF-8%22%20/%3E%0A%20%20%20%20%3Cscript%3EL_PREFER_CANVAS%3Dfalse%3B%20L_NO_TOUCH%3Dfalse%3B%20L_DISABLE_3D%3Dfalse%3B%3C/script%3E%0A%20%20%20%20%3Cscript%20src%3D%22https%3A//cdn.jsdelivr.net/npm/leaflet%401.4.0/dist/leaflet.js%22%3E%3C/script%3E%0A%20%20%20%20%3Cscript%20src%3D%22https%3A//code.jquery.com/jquery-1.12.4.min.js%22%3E%3C/script%3E%0A%20%20%20%20%3Cscript%20src%3D%22https%3A//maxcdn.bootstrapcdn.com/bootstrap/3.2.0/js/bootstrap.min.js%22%3E%3C/script%3E%0A%20%20%20%20%3Cscript%20src%3D%22https%3A//cdnjs.cloudflare.com/ajax/libs/Leaflet.awesome-markers/2.0.2/leaflet.awesome-markers.js%22%3E%3C/script%3E%0A%20%20%20%20%3Clink%20rel%3D%22stylesheet%22%20href%3D%22https%3A//cdn.jsdelivr.net/npm/leaflet%401.4.0/dist/leaflet.css%22/%3E%0A%20%20%20%20%3Clink%20rel%3D%22stylesheet%22%20href%3D%22https%3A//maxcdn.bootstrapcdn.com/bootstrap/3.2.0/css/bootstrap.min.css%22/%3E%0A%20%20%20%20%3Clink%20rel%3D%22stylesheet%22%20href%3D%22https%3A//maxcdn.bootstrapcdn.com/bootstrap/3.2.0/css/bootstrap-theme.min.css%22/%3E%0A%20%20%20%20%3Clink%20rel%3D%22stylesheet%22%20href%3D%22https%3A//maxcdn.bootstrapcdn.com/font-awesome/4.6.3/css/font-awesome.min.css%22/%3E%0A%20%20%20%20%3Clink%20rel%3D%22stylesheet%22%20href%3D%22https%3A//cdnjs.cloudflare.com/ajax/libs/Leaflet.awesome-markers/2.0.2/leaflet.awesome-markers.css%22/%3E%0A%20%20%20%20%3Clink%20rel%3D%22stylesheet%22%20href%3D%22https%3A//rawcdn.githack.com/python-visualization/folium/master/folium/templates/leaflet.awesome.rotate.css%22/%3E%0A%20%20%20%20%3Cstyle%3Ehtml%2C%20body%20%7Bwidth%3A%20100%25%3Bheight%3A%20100%25%3Bmargin%3A%200%3Bpadding%3A%200%3B%7D%3C/style%3E%0A%20%20%20%20%3Cstyle%3E%23map%20%7Bposition%3Aabsolute%3Btop%3A0%3Bbottom%3A0%3Bright%3A0%3Bleft%3A0%3B%7D%3C/style%3E%0A%20%20%20%20%0A%20%20%20%20%3Cmeta%20name%3D%22viewport%22%20content%3D%22width%3Ddevice-width%2C%0A%20%20%20%20%20%20%20%20initial-scale%3D1.0%2C%20maximum-scale%3D1.0%2C%20user-scalable%3Dno%22%20/%3E%0A%20%20%20%20%3Cstyle%3E%23map_deedb530761643deb34ae45218d69fe9%20%7B%0A%20%20%20%20%20%20%20%20position%3A%20relative%3B%0A%20%20%20%20%20%20%20%20width%3A%20100.0%25%3B%0A%20%20%20%20%20%20%20%20height%3A%20100.0%25%3B%0A%20%20%20%20%20%20%20%20left%3A%200.0%25%3B%0A%20%20%20%20%20%20%20%20top%3A%200.0%25%3B%0A%20%20%20%20%20%20%20%20%7D%0A%20%20%20%20%3C/style%3E%0A%3C/head%3E%0A%3Cbody%3E%20%20%20%20%0A%20%20%20%20%0A%20%20%20%20%3Cdiv%20class%3D%22folium-map%22%20id%3D%22map_deedb530761643deb34ae45218d69fe9%22%20%3E%3C/div%3E%0A%3C/body%3E%0A%3Cscript%3E%20%20%20%20%0A%20%20%20%20%0A%20%20%20%20%0A%20%20%20%20%20%20%20%20var%20bounds%20%3D%20null%3B%0A%20%20%20%20%0A%0A%20%20%20%20var%20map_deedb530761643deb34ae45218d69fe9%20%3D%20L.map%28%0A%20%20%20%20%20%20%20%20%27map_deedb530761643deb34ae45218d69fe9%27%2C%20%7B%0A%20%20%20%20%20%20%20%20center%3A%20%5B1950635.8481012657%2C%20953877.0126582278%5D%2C%0A%20%20%20%20%20%20%20%20zoom%3A%2011.5%2C%0A%20%20%20%20%20%20%20%20maxBounds%3A%20bounds%2C%0A%20%20%20%20%20%20%20%20layers%3A%20%5B%5D%2C%0A%20%20%20%20%20%20%20%20worldCopyJump%3A%20false%2C%0A%20%20%20%20%20%20%20%20crs%3A%20L.CRS.EPSG3857%2C%0A%20%20%20%20%20%20%20%20zoomControl%3A%20true%2C%0A%20%20%20%20%20%20%20%20%7D%29%3B%0A%0A%0A%20%20%20%20%0A%20%20%20%20var%20tile_layer_594019ec11674bbaad9b418ae8b15eb7%20%3D%20L.tileLayer%28%0A%20%20%20%20%20%20%20%20%27https%3A//%7Bs%7D.tile.openstreetmap.org/%7Bz%7D/%7Bx%7D/%7By%7D.png%27%2C%0A%20%20%20%20%20%20%20%20%7B%0A%20%20%20%20%20%20%20%20%22attribution%22%3A%20null%2C%0A%20%20%20%20%20%20%20%20%22detectRetina%22%3A%20false%2C%0A%20%20%20%20%20%20%20%20%22maxNativeZoom%22%3A%2018%2C%0A%20%20%20%20%20%20%20%20%22maxZoom%22%3A%2018%2C%0A%20%20%20%20%20%20%20%20%22minZoom%22%3A%200%2C%0A%20%20%20%20%20%20%20%20%22noWrap%22%3A%20false%2C%0A%20%20%20%20%20%20%20%20%22opacity%22%3A%201%2C%0A%20%20%20%20%20%20%20%20%22subdomains%22%3A%20%22abc%22%2C%0A%20%20%20%20%20%20%20%20%22tms%22%3A%20false%0A%7D%29.addTo%28map_deedb530761643deb34ae45218d69fe9%29%3B%0A%3C/script%3E onload=\"this.contentDocument.open();this.contentDocument.write(    decodeURIComponent(this.getAttribute('data-html')));this.contentDocument.close();\" allowfullscreen webkitallowfullscreen mozallowfullscreen></iframe></div></div>"
            ],
            "text/plain": [
              "<folium.folium.Map at 0x7f20e9c33f90>"
            ]
          },
          "metadata": {},
          "execution_count": 47
        }
      ]
    },
    {
      "cell_type": "code",
      "metadata": {
        "id": "mFJm-oVGb7a2"
      },
      "source": [
        ""
      ],
      "execution_count": null,
      "outputs": []
    }
  ]
}