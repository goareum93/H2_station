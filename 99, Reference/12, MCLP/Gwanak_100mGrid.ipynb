{
  "nbformat": 4,
  "nbformat_minor": 5,
  "metadata": {
    "kernelspec": {
      "display_name": "Python Geo",
      "language": "python",
      "name": "geo"
    },
    "language_info": {
      "codemirror_mode": {
        "name": "ipython",
        "version": 3
      },
      "file_extension": ".py",
      "mimetype": "text/x-python",
      "name": "python",
      "nbconvert_exporter": "python",
      "pygments_lexer": "ipython3",
      "version": "3.9.6"
    },
    "colab": {
      "name": "Gwanak_100mGrid.ipynb",
      "provenance": []
    }
  },
  "cells": [
    {
      "cell_type": "markdown",
      "metadata": {
        "id": "93957b70-a5fe-46e1-998c-b8906fd08740"
      },
      "source": [
        "# 필요한 라이브러리 호출"
      ],
      "id": "93957b70-a5fe-46e1-998c-b8906fd08740"
    },
    {
      "cell_type": "code",
      "metadata": {
        "colab": {
          "base_uri": "https://localhost:8080/"
        },
        "id": "_oFybb4LIda3",
        "outputId": "20975018-d1bc-4355-974d-ffb2358bd1fd"
      },
      "source": [
        "!pip install geopandas"
      ],
      "id": "_oFybb4LIda3",
      "execution_count": 2,
      "outputs": [
        {
          "output_type": "stream",
          "name": "stdout",
          "text": [
            "Collecting geopandas\n",
            "  Downloading geopandas-0.9.0-py2.py3-none-any.whl (994 kB)\n",
            "\u001b[?25l\r\u001b[K     |▎                               | 10 kB 26.1 MB/s eta 0:00:01\r\u001b[K     |▋                               | 20 kB 27.2 MB/s eta 0:00:01\r\u001b[K     |█                               | 30 kB 18.2 MB/s eta 0:00:01\r\u001b[K     |█▎                              | 40 kB 15.5 MB/s eta 0:00:01\r\u001b[K     |█▋                              | 51 kB 7.2 MB/s eta 0:00:01\r\u001b[K     |██                              | 61 kB 8.4 MB/s eta 0:00:01\r\u001b[K     |██▎                             | 71 kB 7.8 MB/s eta 0:00:01\r\u001b[K     |██▋                             | 81 kB 8.7 MB/s eta 0:00:01\r\u001b[K     |███                             | 92 kB 8.9 MB/s eta 0:00:01\r\u001b[K     |███▎                            | 102 kB 7.0 MB/s eta 0:00:01\r\u001b[K     |███▋                            | 112 kB 7.0 MB/s eta 0:00:01\r\u001b[K     |████                            | 122 kB 7.0 MB/s eta 0:00:01\r\u001b[K     |████▎                           | 133 kB 7.0 MB/s eta 0:00:01\r\u001b[K     |████▋                           | 143 kB 7.0 MB/s eta 0:00:01\r\u001b[K     |█████                           | 153 kB 7.0 MB/s eta 0:00:01\r\u001b[K     |█████▎                          | 163 kB 7.0 MB/s eta 0:00:01\r\u001b[K     |█████▋                          | 174 kB 7.0 MB/s eta 0:00:01\r\u001b[K     |██████                          | 184 kB 7.0 MB/s eta 0:00:01\r\u001b[K     |██████▎                         | 194 kB 7.0 MB/s eta 0:00:01\r\u001b[K     |██████▋                         | 204 kB 7.0 MB/s eta 0:00:01\r\u001b[K     |███████                         | 215 kB 7.0 MB/s eta 0:00:01\r\u001b[K     |███████▎                        | 225 kB 7.0 MB/s eta 0:00:01\r\u001b[K     |███████▋                        | 235 kB 7.0 MB/s eta 0:00:01\r\u001b[K     |████████                        | 245 kB 7.0 MB/s eta 0:00:01\r\u001b[K     |████████▎                       | 256 kB 7.0 MB/s eta 0:00:01\r\u001b[K     |████████▋                       | 266 kB 7.0 MB/s eta 0:00:01\r\u001b[K     |█████████                       | 276 kB 7.0 MB/s eta 0:00:01\r\u001b[K     |█████████▎                      | 286 kB 7.0 MB/s eta 0:00:01\r\u001b[K     |█████████▌                      | 296 kB 7.0 MB/s eta 0:00:01\r\u001b[K     |█████████▉                      | 307 kB 7.0 MB/s eta 0:00:01\r\u001b[K     |██████████▏                     | 317 kB 7.0 MB/s eta 0:00:01\r\u001b[K     |██████████▌                     | 327 kB 7.0 MB/s eta 0:00:01\r\u001b[K     |██████████▉                     | 337 kB 7.0 MB/s eta 0:00:01\r\u001b[K     |███████████▏                    | 348 kB 7.0 MB/s eta 0:00:01\r\u001b[K     |███████████▌                    | 358 kB 7.0 MB/s eta 0:00:01\r\u001b[K     |███████████▉                    | 368 kB 7.0 MB/s eta 0:00:01\r\u001b[K     |████████████▏                   | 378 kB 7.0 MB/s eta 0:00:01\r\u001b[K     |████████████▌                   | 389 kB 7.0 MB/s eta 0:00:01\r\u001b[K     |████████████▉                   | 399 kB 7.0 MB/s eta 0:00:01\r\u001b[K     |█████████████▏                  | 409 kB 7.0 MB/s eta 0:00:01\r\u001b[K     |█████████████▌                  | 419 kB 7.0 MB/s eta 0:00:01\r\u001b[K     |█████████████▉                  | 430 kB 7.0 MB/s eta 0:00:01\r\u001b[K     |██████████████▏                 | 440 kB 7.0 MB/s eta 0:00:01\r\u001b[K     |██████████████▌                 | 450 kB 7.0 MB/s eta 0:00:01\r\u001b[K     |██████████████▉                 | 460 kB 7.0 MB/s eta 0:00:01\r\u001b[K     |███████████████▏                | 471 kB 7.0 MB/s eta 0:00:01\r\u001b[K     |███████████████▌                | 481 kB 7.0 MB/s eta 0:00:01\r\u001b[K     |███████████████▉                | 491 kB 7.0 MB/s eta 0:00:01\r\u001b[K     |████████████████▏               | 501 kB 7.0 MB/s eta 0:00:01\r\u001b[K     |████████████████▌               | 512 kB 7.0 MB/s eta 0:00:01\r\u001b[K     |████████████████▉               | 522 kB 7.0 MB/s eta 0:00:01\r\u001b[K     |█████████████████▏              | 532 kB 7.0 MB/s eta 0:00:01\r\u001b[K     |█████████████████▌              | 542 kB 7.0 MB/s eta 0:00:01\r\u001b[K     |█████████████████▉              | 552 kB 7.0 MB/s eta 0:00:01\r\u001b[K     |██████████████████▏             | 563 kB 7.0 MB/s eta 0:00:01\r\u001b[K     |██████████████████▌             | 573 kB 7.0 MB/s eta 0:00:01\r\u001b[K     |██████████████████▊             | 583 kB 7.0 MB/s eta 0:00:01\r\u001b[K     |███████████████████             | 593 kB 7.0 MB/s eta 0:00:01\r\u001b[K     |███████████████████▍            | 604 kB 7.0 MB/s eta 0:00:01\r\u001b[K     |███████████████████▊            | 614 kB 7.0 MB/s eta 0:00:01\r\u001b[K     |████████████████████            | 624 kB 7.0 MB/s eta 0:00:01\r\u001b[K     |████████████████████▍           | 634 kB 7.0 MB/s eta 0:00:01\r\u001b[K     |████████████████████▊           | 645 kB 7.0 MB/s eta 0:00:01\r\u001b[K     |█████████████████████           | 655 kB 7.0 MB/s eta 0:00:01\r\u001b[K     |█████████████████████▍          | 665 kB 7.0 MB/s eta 0:00:01\r\u001b[K     |█████████████████████▊          | 675 kB 7.0 MB/s eta 0:00:01\r\u001b[K     |██████████████████████          | 686 kB 7.0 MB/s eta 0:00:01\r\u001b[K     |██████████████████████▍         | 696 kB 7.0 MB/s eta 0:00:01\r\u001b[K     |██████████████████████▊         | 706 kB 7.0 MB/s eta 0:00:01\r\u001b[K     |███████████████████████         | 716 kB 7.0 MB/s eta 0:00:01\r\u001b[K     |███████████████████████▍        | 727 kB 7.0 MB/s eta 0:00:01\r\u001b[K     |███████████████████████▊        | 737 kB 7.0 MB/s eta 0:00:01\r\u001b[K     |████████████████████████        | 747 kB 7.0 MB/s eta 0:00:01\r\u001b[K     |████████████████████████▍       | 757 kB 7.0 MB/s eta 0:00:01\r\u001b[K     |████████████████████████▊       | 768 kB 7.0 MB/s eta 0:00:01\r\u001b[K     |█████████████████████████       | 778 kB 7.0 MB/s eta 0:00:01\r\u001b[K     |█████████████████████████▍      | 788 kB 7.0 MB/s eta 0:00:01\r\u001b[K     |█████████████████████████▊      | 798 kB 7.0 MB/s eta 0:00:01\r\u001b[K     |██████████████████████████      | 808 kB 7.0 MB/s eta 0:00:01\r\u001b[K     |██████████████████████████▍     | 819 kB 7.0 MB/s eta 0:00:01\r\u001b[K     |██████████████████████████▊     | 829 kB 7.0 MB/s eta 0:00:01\r\u001b[K     |███████████████████████████     | 839 kB 7.0 MB/s eta 0:00:01\r\u001b[K     |███████████████████████████▍    | 849 kB 7.0 MB/s eta 0:00:01\r\u001b[K     |███████████████████████████▊    | 860 kB 7.0 MB/s eta 0:00:01\r\u001b[K     |████████████████████████████    | 870 kB 7.0 MB/s eta 0:00:01\r\u001b[K     |████████████████████████████▎   | 880 kB 7.0 MB/s eta 0:00:01\r\u001b[K     |████████████████████████████▋   | 890 kB 7.0 MB/s eta 0:00:01\r\u001b[K     |█████████████████████████████   | 901 kB 7.0 MB/s eta 0:00:01\r\u001b[K     |█████████████████████████████▎  | 911 kB 7.0 MB/s eta 0:00:01\r\u001b[K     |█████████████████████████████▋  | 921 kB 7.0 MB/s eta 0:00:01\r\u001b[K     |██████████████████████████████  | 931 kB 7.0 MB/s eta 0:00:01\r\u001b[K     |██████████████████████████████▎ | 942 kB 7.0 MB/s eta 0:00:01\r\u001b[K     |██████████████████████████████▋ | 952 kB 7.0 MB/s eta 0:00:01\r\u001b[K     |███████████████████████████████ | 962 kB 7.0 MB/s eta 0:00:01\r\u001b[K     |███████████████████████████████▎| 972 kB 7.0 MB/s eta 0:00:01\r\u001b[K     |███████████████████████████████▋| 983 kB 7.0 MB/s eta 0:00:01\r\u001b[K     |████████████████████████████████| 993 kB 7.0 MB/s eta 0:00:01\r\u001b[K     |████████████████████████████████| 994 kB 7.0 MB/s \n",
            "\u001b[?25hRequirement already satisfied: pandas>=0.24.0 in /usr/local/lib/python3.7/dist-packages (from geopandas) (1.1.5)\n",
            "Collecting fiona>=1.8\n",
            "  Downloading Fiona-1.8.20-cp37-cp37m-manylinux1_x86_64.whl (15.4 MB)\n",
            "\u001b[K     |████████████████████████████████| 15.4 MB 39 kB/s \n",
            "\u001b[?25hCollecting pyproj>=2.2.0\n",
            "  Downloading pyproj-3.2.1-cp37-cp37m-manylinux2010_x86_64.whl (6.3 MB)\n",
            "\u001b[K     |████████████████████████████████| 6.3 MB 25.0 MB/s \n",
            "\u001b[?25hRequirement already satisfied: shapely>=1.6 in /usr/local/lib/python3.7/dist-packages (from geopandas) (1.7.1)\n",
            "Requirement already satisfied: six>=1.7 in /usr/local/lib/python3.7/dist-packages (from fiona>=1.8->geopandas) (1.15.0)\n",
            "Requirement already satisfied: setuptools in /usr/local/lib/python3.7/dist-packages (from fiona>=1.8->geopandas) (57.4.0)\n",
            "Collecting cligj>=0.5\n",
            "  Downloading cligj-0.7.2-py3-none-any.whl (7.1 kB)\n",
            "Requirement already satisfied: click>=4.0 in /usr/local/lib/python3.7/dist-packages (from fiona>=1.8->geopandas) (7.1.2)\n",
            "Collecting click-plugins>=1.0\n",
            "  Downloading click_plugins-1.1.1-py2.py3-none-any.whl (7.5 kB)\n",
            "Collecting munch\n",
            "  Downloading munch-2.5.0-py2.py3-none-any.whl (10 kB)\n",
            "Requirement already satisfied: attrs>=17 in /usr/local/lib/python3.7/dist-packages (from fiona>=1.8->geopandas) (21.2.0)\n",
            "Requirement already satisfied: certifi in /usr/local/lib/python3.7/dist-packages (from fiona>=1.8->geopandas) (2021.5.30)\n",
            "Requirement already satisfied: numpy>=1.15.4 in /usr/local/lib/python3.7/dist-packages (from pandas>=0.24.0->geopandas) (1.19.5)\n",
            "Requirement already satisfied: pytz>=2017.2 in /usr/local/lib/python3.7/dist-packages (from pandas>=0.24.0->geopandas) (2018.9)\n",
            "Requirement already satisfied: python-dateutil>=2.7.3 in /usr/local/lib/python3.7/dist-packages (from pandas>=0.24.0->geopandas) (2.8.2)\n",
            "Installing collected packages: munch, cligj, click-plugins, pyproj, fiona, geopandas\n",
            "Successfully installed click-plugins-1.1.1 cligj-0.7.2 fiona-1.8.20 geopandas-0.9.0 munch-2.5.0 pyproj-3.2.1\n"
          ]
        }
      ]
    },
    {
      "cell_type": "code",
      "metadata": {
        "id": "7fd11879-9ba3-4796-b927-9b54d94fc74e"
      },
      "source": [
        "import geopandas as gpd\n",
        "import matplotlib.pyplot as plt\n",
        "import matplotlib as mpl\n",
        "import numpy as np\n",
        "import platform\n",
        "from matplotlib import font_manager, rc\n",
        "import pandas as pd\n",
        "import folium\n",
        "import branca\n",
        "\n",
        "if platform.system() == 'Windows':\n",
        "# 윈도우인 경우\n",
        "    font_name = font_manager.FontProperties(fname=\"c:/Windows/Fonts/malgun.ttf\").get_name()\n",
        "    rc('font', family=font_name)\n",
        "else:    \n",
        "# Mac 인 경우\n",
        "    rc('font', family='AppleGothic')"
      ],
      "id": "7fd11879-9ba3-4796-b927-9b54d94fc74e",
      "execution_count": 3,
      "outputs": []
    },
    {
      "cell_type": "code",
      "metadata": {
        "id": "47b4ac39-e1e9-4255-b8c8-c3e114e252c3"
      },
      "source": [
        "from shapely.geometry.point import Point"
      ],
      "id": "47b4ac39-e1e9-4255-b8c8-c3e114e252c3",
      "execution_count": 4,
      "outputs": []
    },
    {
      "cell_type": "markdown",
      "metadata": {
        "id": "a5a2c64b-43f7-423d-b400-fc3b30e7f36d"
      },
      "source": [
        "# 서울시 AED 좌표를 불러와 관악구 데이터만 가져오기"
      ],
      "id": "a5a2c64b-43f7-423d-b400-fc3b30e7f36d"
    },
    {
      "cell_type": "code",
      "metadata": {
        "colab": {
          "base_uri": "https://localhost:8080/",
          "height": 324
        },
        "id": "69123a57-2114-4428-988d-08d619618c32",
        "outputId": "451aabfc-bb02-4141-8e4d-ffddfc0c84f3"
      },
      "source": [
        "pd_geo_coordi = pd.read_csv('../../AED_Seoul_coord.csv', engine='python', encoding='CP949')"
      ],
      "id": "69123a57-2114-4428-988d-08d619618c32",
      "execution_count": 6,
      "outputs": [
        {
          "output_type": "error",
          "ename": "FileNotFoundError",
          "evalue": "ignored",
          "traceback": [
            "\u001b[0;31m---------------------------------------------------------------------------\u001b[0m",
            "\u001b[0;31mFileNotFoundError\u001b[0m                         Traceback (most recent call last)",
            "\u001b[0;32m<ipython-input-6-45066a976677>\u001b[0m in \u001b[0;36m<module>\u001b[0;34m()\u001b[0m\n\u001b[0;32m----> 1\u001b[0;31m \u001b[0mpd_geo_coordi\u001b[0m \u001b[0;34m=\u001b[0m \u001b[0mpd\u001b[0m\u001b[0;34m.\u001b[0m\u001b[0mread_csv\u001b[0m\u001b[0;34m(\u001b[0m\u001b[0;34m'../../AED_Seoul_coord.csv'\u001b[0m\u001b[0;34m,\u001b[0m \u001b[0mengine\u001b[0m\u001b[0;34m=\u001b[0m\u001b[0;34m'python'\u001b[0m\u001b[0;34m,\u001b[0m \u001b[0mencoding\u001b[0m\u001b[0;34m=\u001b[0m\u001b[0;34m'CP949'\u001b[0m\u001b[0;34m)\u001b[0m\u001b[0;34m\u001b[0m\u001b[0;34m\u001b[0m\u001b[0m\n\u001b[0m",
            "\u001b[0;32m/usr/local/lib/python3.7/dist-packages/pandas/io/parsers.py\u001b[0m in \u001b[0;36mread_csv\u001b[0;34m(filepath_or_buffer, sep, delimiter, header, names, index_col, usecols, squeeze, prefix, mangle_dupe_cols, dtype, engine, converters, true_values, false_values, skipinitialspace, skiprows, skipfooter, nrows, na_values, keep_default_na, na_filter, verbose, skip_blank_lines, parse_dates, infer_datetime_format, keep_date_col, date_parser, dayfirst, cache_dates, iterator, chunksize, compression, thousands, decimal, lineterminator, quotechar, quoting, doublequote, escapechar, comment, encoding, dialect, error_bad_lines, warn_bad_lines, delim_whitespace, low_memory, memory_map, float_precision)\u001b[0m\n\u001b[1;32m    686\u001b[0m     )\n\u001b[1;32m    687\u001b[0m \u001b[0;34m\u001b[0m\u001b[0m\n\u001b[0;32m--> 688\u001b[0;31m     \u001b[0;32mreturn\u001b[0m \u001b[0m_read\u001b[0m\u001b[0;34m(\u001b[0m\u001b[0mfilepath_or_buffer\u001b[0m\u001b[0;34m,\u001b[0m \u001b[0mkwds\u001b[0m\u001b[0;34m)\u001b[0m\u001b[0;34m\u001b[0m\u001b[0;34m\u001b[0m\u001b[0m\n\u001b[0m\u001b[1;32m    689\u001b[0m \u001b[0;34m\u001b[0m\u001b[0m\n\u001b[1;32m    690\u001b[0m \u001b[0;34m\u001b[0m\u001b[0m\n",
            "\u001b[0;32m/usr/local/lib/python3.7/dist-packages/pandas/io/parsers.py\u001b[0m in \u001b[0;36m_read\u001b[0;34m(filepath_or_buffer, kwds)\u001b[0m\n\u001b[1;32m    452\u001b[0m \u001b[0;34m\u001b[0m\u001b[0m\n\u001b[1;32m    453\u001b[0m     \u001b[0;31m# Create the parser.\u001b[0m\u001b[0;34m\u001b[0m\u001b[0;34m\u001b[0m\u001b[0;34m\u001b[0m\u001b[0m\n\u001b[0;32m--> 454\u001b[0;31m     \u001b[0mparser\u001b[0m \u001b[0;34m=\u001b[0m \u001b[0mTextFileReader\u001b[0m\u001b[0;34m(\u001b[0m\u001b[0mfp_or_buf\u001b[0m\u001b[0;34m,\u001b[0m \u001b[0;34m**\u001b[0m\u001b[0mkwds\u001b[0m\u001b[0;34m)\u001b[0m\u001b[0;34m\u001b[0m\u001b[0;34m\u001b[0m\u001b[0m\n\u001b[0m\u001b[1;32m    455\u001b[0m \u001b[0;34m\u001b[0m\u001b[0m\n\u001b[1;32m    456\u001b[0m     \u001b[0;32mif\u001b[0m \u001b[0mchunksize\u001b[0m \u001b[0;32mor\u001b[0m \u001b[0miterator\u001b[0m\u001b[0;34m:\u001b[0m\u001b[0;34m\u001b[0m\u001b[0;34m\u001b[0m\u001b[0m\n",
            "\u001b[0;32m/usr/local/lib/python3.7/dist-packages/pandas/io/parsers.py\u001b[0m in \u001b[0;36m__init__\u001b[0;34m(self, f, engine, **kwds)\u001b[0m\n\u001b[1;32m    946\u001b[0m             \u001b[0mself\u001b[0m\u001b[0;34m.\u001b[0m\u001b[0moptions\u001b[0m\u001b[0;34m[\u001b[0m\u001b[0;34m\"has_index_names\"\u001b[0m\u001b[0;34m]\u001b[0m \u001b[0;34m=\u001b[0m \u001b[0mkwds\u001b[0m\u001b[0;34m[\u001b[0m\u001b[0;34m\"has_index_names\"\u001b[0m\u001b[0;34m]\u001b[0m\u001b[0;34m\u001b[0m\u001b[0;34m\u001b[0m\u001b[0m\n\u001b[1;32m    947\u001b[0m \u001b[0;34m\u001b[0m\u001b[0m\n\u001b[0;32m--> 948\u001b[0;31m         \u001b[0mself\u001b[0m\u001b[0;34m.\u001b[0m\u001b[0m_make_engine\u001b[0m\u001b[0;34m(\u001b[0m\u001b[0mself\u001b[0m\u001b[0;34m.\u001b[0m\u001b[0mengine\u001b[0m\u001b[0;34m)\u001b[0m\u001b[0;34m\u001b[0m\u001b[0;34m\u001b[0m\u001b[0m\n\u001b[0m\u001b[1;32m    949\u001b[0m \u001b[0;34m\u001b[0m\u001b[0m\n\u001b[1;32m    950\u001b[0m     \u001b[0;32mdef\u001b[0m \u001b[0mclose\u001b[0m\u001b[0;34m(\u001b[0m\u001b[0mself\u001b[0m\u001b[0;34m)\u001b[0m\u001b[0;34m:\u001b[0m\u001b[0;34m\u001b[0m\u001b[0;34m\u001b[0m\u001b[0m\n",
            "\u001b[0;32m/usr/local/lib/python3.7/dist-packages/pandas/io/parsers.py\u001b[0m in \u001b[0;36m_make_engine\u001b[0;34m(self, engine)\u001b[0m\n\u001b[1;32m   1189\u001b[0m                     \u001b[0;34m'are \"c\", \"python\", or \"python-fwf\")'\u001b[0m\u001b[0;34m\u001b[0m\u001b[0;34m\u001b[0m\u001b[0m\n\u001b[1;32m   1190\u001b[0m                 )\n\u001b[0;32m-> 1191\u001b[0;31m             \u001b[0mself\u001b[0m\u001b[0;34m.\u001b[0m\u001b[0m_engine\u001b[0m \u001b[0;34m=\u001b[0m \u001b[0mklass\u001b[0m\u001b[0;34m(\u001b[0m\u001b[0mself\u001b[0m\u001b[0;34m.\u001b[0m\u001b[0mf\u001b[0m\u001b[0;34m,\u001b[0m \u001b[0;34m**\u001b[0m\u001b[0mself\u001b[0m\u001b[0;34m.\u001b[0m\u001b[0moptions\u001b[0m\u001b[0;34m)\u001b[0m\u001b[0;34m\u001b[0m\u001b[0;34m\u001b[0m\u001b[0m\n\u001b[0m\u001b[1;32m   1192\u001b[0m \u001b[0;34m\u001b[0m\u001b[0m\n\u001b[1;32m   1193\u001b[0m     \u001b[0;32mdef\u001b[0m \u001b[0m_failover_to_python\u001b[0m\u001b[0;34m(\u001b[0m\u001b[0mself\u001b[0m\u001b[0;34m)\u001b[0m\u001b[0;34m:\u001b[0m\u001b[0;34m\u001b[0m\u001b[0;34m\u001b[0m\u001b[0m\n",
            "\u001b[0;32m/usr/local/lib/python3.7/dist-packages/pandas/io/parsers.py\u001b[0m in \u001b[0;36m__init__\u001b[0;34m(self, f, **kwds)\u001b[0m\n\u001b[1;32m   2387\u001b[0m             \u001b[0mencoding\u001b[0m\u001b[0;34m=\u001b[0m\u001b[0mself\u001b[0m\u001b[0;34m.\u001b[0m\u001b[0mencoding\u001b[0m\u001b[0;34m,\u001b[0m\u001b[0;34m\u001b[0m\u001b[0;34m\u001b[0m\u001b[0m\n\u001b[1;32m   2388\u001b[0m             \u001b[0mcompression\u001b[0m\u001b[0;34m=\u001b[0m\u001b[0mself\u001b[0m\u001b[0;34m.\u001b[0m\u001b[0mcompression\u001b[0m\u001b[0;34m,\u001b[0m\u001b[0;34m\u001b[0m\u001b[0;34m\u001b[0m\u001b[0m\n\u001b[0;32m-> 2389\u001b[0;31m             \u001b[0mmemory_map\u001b[0m\u001b[0;34m=\u001b[0m\u001b[0mself\u001b[0m\u001b[0;34m.\u001b[0m\u001b[0mmemory_map\u001b[0m\u001b[0;34m,\u001b[0m\u001b[0;34m\u001b[0m\u001b[0;34m\u001b[0m\u001b[0m\n\u001b[0m\u001b[1;32m   2390\u001b[0m         )\n\u001b[1;32m   2391\u001b[0m         \u001b[0mself\u001b[0m\u001b[0;34m.\u001b[0m\u001b[0mhandles\u001b[0m\u001b[0;34m.\u001b[0m\u001b[0mextend\u001b[0m\u001b[0;34m(\u001b[0m\u001b[0mhandles\u001b[0m\u001b[0;34m)\u001b[0m\u001b[0;34m\u001b[0m\u001b[0;34m\u001b[0m\u001b[0m\n",
            "\u001b[0;32m/usr/local/lib/python3.7/dist-packages/pandas/io/common.py\u001b[0m in \u001b[0;36mget_handle\u001b[0;34m(path_or_buf, mode, encoding, compression, memory_map, is_text, errors)\u001b[0m\n\u001b[1;32m    491\u001b[0m         \u001b[0;32mif\u001b[0m \u001b[0mencoding\u001b[0m\u001b[0;34m:\u001b[0m\u001b[0;34m\u001b[0m\u001b[0;34m\u001b[0m\u001b[0m\n\u001b[1;32m    492\u001b[0m             \u001b[0;31m# Encoding\u001b[0m\u001b[0;34m\u001b[0m\u001b[0;34m\u001b[0m\u001b[0;34m\u001b[0m\u001b[0m\n\u001b[0;32m--> 493\u001b[0;31m             \u001b[0mf\u001b[0m \u001b[0;34m=\u001b[0m \u001b[0mopen\u001b[0m\u001b[0;34m(\u001b[0m\u001b[0mpath_or_buf\u001b[0m\u001b[0;34m,\u001b[0m \u001b[0mmode\u001b[0m\u001b[0;34m,\u001b[0m \u001b[0mencoding\u001b[0m\u001b[0;34m=\u001b[0m\u001b[0mencoding\u001b[0m\u001b[0;34m,\u001b[0m \u001b[0merrors\u001b[0m\u001b[0;34m=\u001b[0m\u001b[0merrors\u001b[0m\u001b[0;34m,\u001b[0m \u001b[0mnewline\u001b[0m\u001b[0;34m=\u001b[0m\u001b[0;34m\"\"\u001b[0m\u001b[0;34m)\u001b[0m\u001b[0;34m\u001b[0m\u001b[0;34m\u001b[0m\u001b[0m\n\u001b[0m\u001b[1;32m    494\u001b[0m         \u001b[0;32melif\u001b[0m \u001b[0mis_text\u001b[0m\u001b[0;34m:\u001b[0m\u001b[0;34m\u001b[0m\u001b[0;34m\u001b[0m\u001b[0m\n\u001b[1;32m    495\u001b[0m             \u001b[0;31m# No explicit encoding\u001b[0m\u001b[0;34m\u001b[0m\u001b[0;34m\u001b[0m\u001b[0;34m\u001b[0m\u001b[0m\n",
            "\u001b[0;31mFileNotFoundError\u001b[0m: [Errno 2] No such file or directory: '../../AED_Seoul_coord.csv'"
          ]
        }
      ]
    },
    {
      "cell_type": "code",
      "metadata": {
        "id": "50673428-2ecf-4daa-8a97-fa1f7d026013"
      },
      "source": [
        "aed_gwanak = pd_geo_coordi.loc[pd_geo_coordi['도로명'].str.split().str.get(1)=='관악구']"
      ],
      "id": "50673428-2ecf-4daa-8a97-fa1f7d026013",
      "execution_count": null,
      "outputs": []
    },
    {
      "cell_type": "code",
      "metadata": {
        "id": "7bce4814-11fe-4018-8d34-9a8728181f73"
      },
      "source": [
        "lats = np.array(aed_gwanak['위도'])\n",
        "lons = np.array(aed_gwanak['경도'])"
      ],
      "id": "7bce4814-11fe-4018-8d34-9a8728181f73",
      "execution_count": null,
      "outputs": []
    },
    {
      "cell_type": "code",
      "metadata": {
        "id": "0e04c179-410d-4be3-a97c-cce1ddefa55d"
      },
      "source": [
        "lat_mean, lon_mean = (37.472, 126.95)"
      ],
      "id": "0e04c179-410d-4be3-a97c-cce1ddefa55d",
      "execution_count": null,
      "outputs": []
    },
    {
      "cell_type": "code",
      "metadata": {
        "id": "fb3c7a8e-4174-42dd-bf64-307534f2c8d2"
      },
      "source": [
        "# import math\n",
        "# R = 6378\n",
        "# r = R * math.cos(lat_mean*math.pi/180)\n",
        "# dtheta = (0.3 / r) * (180/math.pi)\n",
        "# dtheta"
      ],
      "id": "fb3c7a8e-4174-42dd-bf64-307534f2c8d2",
      "execution_count": null,
      "outputs": []
    },
    {
      "cell_type": "code",
      "metadata": {
        "id": "8bd2f951-c46f-49b9-9a9f-410c5f80142e"
      },
      "source": [
        "# def make_circle(point, radius = dtheta):\n",
        "#     point = Point(point)\n",
        "#     return point.buffer(radius, resolution=100)"
      ],
      "id": "8bd2f951-c46f-49b9-9a9f-410c5f80142e",
      "execution_count": null,
      "outputs": []
    },
    {
      "cell_type": "code",
      "metadata": {
        "id": "fd373d07-ccd2-46a4-bcf5-3587541e263a"
      },
      "source": [
        "aed_gwanak"
      ],
      "id": "fd373d07-ccd2-46a4-bcf5-3587541e263a",
      "execution_count": null,
      "outputs": []
    },
    {
      "cell_type": "markdown",
      "metadata": {
        "id": "9d6bbcf8-a5f9-45e3-b2c0-44ae1f9a42e7"
      },
      "source": [
        "# 각 AED로부터 300m 원을 이루는 polygon 생성"
      ],
      "id": "9d6bbcf8-a5f9-45e3-b2c0-44ae1f9a42e7"
    },
    {
      "cell_type": "code",
      "metadata": {
        "id": "f9487b8c-a442-4368-a46b-f46931fd0c99"
      },
      "source": [
        "aed_gwanak['geom'] = aed_gwanak.apply(lambda r: Point(r['경도'], r['위도']), axis=1)"
      ],
      "id": "f9487b8c-a442-4368-a46b-f46931fd0c99",
      "execution_count": null,
      "outputs": []
    },
    {
      "cell_type": "code",
      "metadata": {
        "id": "c11ec89f-7061-4765-823f-2a580a3ead18"
      },
      "source": [
        "aed_gwanak"
      ],
      "id": "c11ec89f-7061-4765-823f-2a580a3ead18",
      "execution_count": null,
      "outputs": []
    },
    {
      "cell_type": "code",
      "metadata": {
        "id": "fd2ec7d6-e66e-4fe1-8acd-2572ec669f20"
      },
      "source": [
        "gdf = gpd.GeoDataFrame(aed_gwanak, geometry='geom', crs='epsg:4326')\n",
        "gdf_flat = gdf.to_crs('epsg:6347')\n",
        "gdf_flat['geom'] = gdf_flat.geometry.buffer(300)\n",
        "gdf = gdf_flat.to_crs('epsg:4326')"
      ],
      "id": "fd2ec7d6-e66e-4fe1-8acd-2572ec669f20",
      "execution_count": null,
      "outputs": []
    },
    {
      "cell_type": "code",
      "metadata": {
        "id": "1fb8b58d-522d-4ede-80c5-fb25aa7feb68"
      },
      "source": [
        "gdf"
      ],
      "id": "1fb8b58d-522d-4ede-80c5-fb25aa7feb68",
      "execution_count": null,
      "outputs": []
    },
    {
      "cell_type": "code",
      "metadata": {
        "id": "61a6bfac-aa39-446f-8c3a-ce071d02ad85"
      },
      "source": [
        "u = gdf.iloc[0, 4]"
      ],
      "id": "61a6bfac-aa39-446f-8c3a-ce071d02ad85",
      "execution_count": null,
      "outputs": []
    },
    {
      "cell_type": "code",
      "metadata": {
        "id": "cc33b758-99ea-46db-a080-6ff3b06ad525"
      },
      "source": [
        "u"
      ],
      "id": "cc33b758-99ea-46db-a080-6ff3b06ad525",
      "execution_count": null,
      "outputs": []
    },
    {
      "cell_type": "markdown",
      "metadata": {
        "id": "c3608654-b150-4b00-bb72-9efbaae272c9"
      },
      "source": [
        "# AED 반경 300m로 생성된 polygon을 모두 union"
      ],
      "id": "c3608654-b150-4b00-bb72-9efbaae272c9"
    },
    {
      "cell_type": "code",
      "metadata": {
        "id": "6f88405b-20be-4cff-80ff-3029f8a60d4b"
      },
      "source": [
        "for _, r in gdf.iterrows():\n",
        "    u = u.union(r['geom'])"
      ],
      "id": "6f88405b-20be-4cff-80ff-3029f8a60d4b",
      "execution_count": null,
      "outputs": []
    },
    {
      "cell_type": "code",
      "metadata": {
        "id": "0fd02ec7-1911-49ed-a32f-27f243921d3d"
      },
      "source": [
        "u"
      ],
      "id": "0fd02ec7-1911-49ed-a32f-27f243921d3d",
      "execution_count": null,
      "outputs": []
    },
    {
      "cell_type": "code",
      "metadata": {
        "id": "430ab76c-6dab-4a54-9c4c-70156d499f59"
      },
      "source": [
        "# u = make_circle((lons[0], lats[0]))"
      ],
      "id": "430ab76c-6dab-4a54-9c4c-70156d499f59",
      "execution_count": null,
      "outputs": []
    },
    {
      "cell_type": "code",
      "metadata": {
        "id": "9b925bcd-2a3e-4bf8-af62-1ec15e9b8a2a"
      },
      "source": [
        "# for i in range(1, len(lats)):\n",
        "#     u2 = make_circle((lons[i], lats[i]))\n",
        "#     u = u.union(u2)"
      ],
      "id": "9b925bcd-2a3e-4bf8-af62-1ec15e9b8a2a",
      "execution_count": null,
      "outputs": []
    },
    {
      "cell_type": "code",
      "metadata": {
        "id": "fa1c8a6d-e00b-45dc-a147-9cc1d6cc6683"
      },
      "source": [
        "# u"
      ],
      "id": "fa1c8a6d-e00b-45dc-a147-9cc1d6cc6683",
      "execution_count": null,
      "outputs": []
    },
    {
      "cell_type": "markdown",
      "metadata": {
        "id": "e382df9c-a14c-4b9d-8058-9c033352c33d"
      },
      "source": [
        "# folium을 통해 지도상에 300m 원 표시"
      ],
      "id": "e382df9c-a14c-4b9d-8058-9c033352c33d"
    },
    {
      "cell_type": "code",
      "metadata": {
        "id": "660527de-1c7e-40bf-a2c3-3365c3247087"
      },
      "source": [
        "m2 = folium.Map([lat_mean, lon_mean], zoom_start = 14)"
      ],
      "id": "660527de-1c7e-40bf-a2c3-3365c3247087",
      "execution_count": null,
      "outputs": []
    },
    {
      "cell_type": "code",
      "metadata": {
        "id": "119b42a8-4156-4b97-8b57-c4bfc8900e15"
      },
      "source": [
        "for lat, lon in zip(lats, lons):\n",
        "    try:\n",
        "        folium.Circle(location = [lat, lon], radius = 300, color='black', fill_color = 'black').add_to(m2) # 반경 300m 원 그리기\n",
        "    except:\n",
        "        continue"
      ],
      "id": "119b42a8-4156-4b97-8b57-c4bfc8900e15",
      "execution_count": null,
      "outputs": []
    },
    {
      "cell_type": "code",
      "metadata": {
        "id": "aa6e60dd-40f9-4126-b32c-af6256efeeab"
      },
      "source": [
        "m2"
      ],
      "id": "aa6e60dd-40f9-4126-b32c-af6256efeeab",
      "execution_count": null,
      "outputs": []
    },
    {
      "cell_type": "markdown",
      "metadata": {
        "id": "77ce4b9f-6f7e-4426-bfea-2ffcb3ac7c11"
      },
      "source": [
        "# 20대 남자 인구 데이터를 기반으로 하여 각 grid별로 AED가 커버하지 못하는 비율 계산"
      ],
      "id": "77ce4b9f-6f7e-4426-bfea-2ffcb3ac7c11"
    },
    {
      "cell_type": "code",
      "metadata": {
        "id": "05099059-0fe5-4bca-abcc-58b0905c2bb3"
      },
      "source": [
        "base = \"./20남/nlsp_021001026.shp\"\n",
        "df = gpd.read_file(base, encoding='utf8')\n",
        "df"
      ],
      "id": "05099059-0fe5-4bca-abcc-58b0905c2bb3",
      "execution_count": null,
      "outputs": []
    },
    {
      "cell_type": "markdown",
      "metadata": {
        "id": "86510be6-20c2-44a8-a949-27cc761ed1c4"
      },
      "source": [
        "추후 OHCR 계산 편의를 위해 m20 column 생성, 불필요한 columns 제거"
      ],
      "id": "86510be6-20c2-44a8-a949-27cc761ed1c4"
    },
    {
      "cell_type": "code",
      "metadata": {
        "id": "283505e9-83c3-4da9-85fb-bdd39e797b54"
      },
      "source": [
        "df['m20'] = df['val']\n",
        "df"
      ],
      "id": "283505e9-83c3-4da9-85fb-bdd39e797b54",
      "execution_count": null,
      "outputs": []
    },
    {
      "cell_type": "code",
      "metadata": {
        "id": "57a2dd2a-5446-4045-9810-3625288998ee"
      },
      "source": [
        "df = df.drop(columns=['lbl', 'val'])\n",
        "df"
      ],
      "id": "57a2dd2a-5446-4045-9810-3625288998ee",
      "execution_count": null,
      "outputs": []
    },
    {
      "cell_type": "markdown",
      "metadata": {
        "id": "e17f06ed-36c3-4c65-bf21-abe8afa88887"
      },
      "source": [
        "polygon을 좌표평면계로 변경"
      ],
      "id": "e17f06ed-36c3-4c65-bf21-abe8afa88887"
    },
    {
      "cell_type": "code",
      "metadata": {
        "id": "94cc1f3a-9d31-457a-a4de-bdc5b435d9dc"
      },
      "source": [
        "df = df.to_crs(epsg=4326)\n",
        "df"
      ],
      "id": "94cc1f3a-9d31-457a-a4de-bdc5b435d9dc",
      "execution_count": null,
      "outputs": []
    },
    {
      "cell_type": "markdown",
      "metadata": {
        "id": "34eff31d-7f97-41f4-b167-578bca1be344"
      },
      "source": [
        "NaN을 0으로 대체"
      ],
      "id": "34eff31d-7f97-41f4-b167-578bca1be344"
    },
    {
      "cell_type": "code",
      "metadata": {
        "id": "4ebfdf56-1e78-497d-9d30-0e488d6c0d7c"
      },
      "source": [
        "df = df.fillna(0)\n",
        "df"
      ],
      "id": "4ebfdf56-1e78-497d-9d30-0e488d6c0d7c",
      "execution_count": null,
      "outputs": []
    },
    {
      "cell_type": "markdown",
      "metadata": {
        "id": "fe4869e7-b6e1-43c1-a2f0-8fad7b43056e"
      },
      "source": [
        "## 각 polygon끼리 겹치는 넓이 비율 계산 함수 생성"
      ],
      "id": "fe4869e7-b6e1-43c1-a2f0-8fad7b43056e"
    },
    {
      "cell_type": "code",
      "metadata": {
        "id": "caf06b08-880d-485f-932d-53dee15d3629"
      },
      "source": [
        "def cal_area(poly, aed):\n",
        "    area = poly.area\n",
        "    intersection = poly.intersection(aed).area\n",
        "    return intersection / area"
      ],
      "id": "caf06b08-880d-485f-932d-53dee15d3629",
      "execution_count": null,
      "outputs": []
    },
    {
      "cell_type": "markdown",
      "metadata": {
        "id": "78c00017-7023-47f4-9794-36df9cff96f6"
      },
      "source": [
        "# 지도에 표시"
      ],
      "id": "78c00017-7023-47f4-9794-36df9cff96f6"
    },
    {
      "cell_type": "code",
      "metadata": {
        "id": "dd9f422b-1471-4cd2-90e0-78753611a846"
      },
      "source": [
        "m3 = folium.Map([lat_mean, lon_mean], zoom_start = 14)"
      ],
      "id": "dd9f422b-1471-4cd2-90e0-78753611a846",
      "execution_count": null,
      "outputs": []
    },
    {
      "cell_type": "code",
      "metadata": {
        "id": "c4a15354-53e2-4744-a26c-2e6e934275e6"
      },
      "source": [
        "for _, r in df.iterrows():\n",
        "    value = 1-cal_area(r['geometry'], u)\n",
        "    sim_geo = gpd.GeoSeries(r['geometry'])\n",
        "    geo_j = sim_geo.to_json()\n",
        "\n",
        "    color = plt.cm.OrRd(value)\n",
        "\n",
        "    color = mpl.colors.to_hex(color)\n",
        "    \n",
        "#     geo_j = folium.GeoJson(data=geo_j,\n",
        "#                            style_function=lambda x: {'fillColor': 'orange'})\n",
        "    geo_j = folium.GeoJson(data=geo_j,\n",
        "                        style_function=lambda feature, color=color: {\n",
        "                                                                        'fillColor': color,\n",
        "                                                                        'color':\"black\",\n",
        "                                                                        'weight': 2,\n",
        "                                                                        'dashArray': '5, 5',\n",
        "                                                                        'fillOpacity': 0.8,\n",
        "                                                                    })\n",
        "\n",
        "\n",
        "    folium.Popup(f'{value:.3f}').add_to(geo_j)\n",
        "    geo_j.add_to(m3)"
      ],
      "id": "c4a15354-53e2-4744-a26c-2e6e934275e6",
      "execution_count": null,
      "outputs": []
    },
    {
      "cell_type": "code",
      "metadata": {
        "id": "be278cfc-a0fb-4285-aa6f-95da5d4a2488"
      },
      "source": [
        "colormap = branca.colormap.linear.OrRd_06.scale(0, 1)\n",
        "colormap = colormap.to_step(index=np.linspace(0, 1, 1000))\n",
        "colormap.caption = 'Area Ratio NOT Covered by AEDs (300m)'\n",
        "colormap.add_to(m3)\n",
        "m3"
      ],
      "id": "be278cfc-a0fb-4285-aa6f-95da5d4a2488",
      "execution_count": null,
      "outputs": []
    },
    {
      "cell_type": "markdown",
      "metadata": {
        "id": "bef3bdd8-69cc-4248-b197-ff537fb717e6"
      },
      "source": [
        "# 119 구조센터"
      ],
      "id": "bef3bdd8-69cc-4248-b197-ff537fb717e6"
    },
    {
      "cell_type": "code",
      "metadata": {
        "id": "aeaedc6c-4f60-4d45-844e-8ef946978dca"
      },
      "source": [
        "fs = pd.read_csv('../../FS_Seoul_coord.csv', encoding='cp949')"
      ],
      "id": "aeaedc6c-4f60-4d45-844e-8ef946978dca",
      "execution_count": null,
      "outputs": []
    },
    {
      "cell_type": "code",
      "metadata": {
        "id": "608b20c4-ec57-4d3c-ac98-4a844132c9bc"
      },
      "source": [
        "fs_gwanak = fs.loc[fs['위치'].str.split().str.get(1)=='관악구']\n",
        "fs_gwanak"
      ],
      "id": "608b20c4-ec57-4d3c-ac98-4a844132c9bc",
      "execution_count": null,
      "outputs": []
    },
    {
      "cell_type": "code",
      "metadata": {
        "id": "f432d262-3727-44dc-aad4-5c6650f7edf0"
      },
      "source": [
        "fs['geom'] = fs.apply(lambda r: Point(r['경도'], r['위도']), axis=1)"
      ],
      "id": "f432d262-3727-44dc-aad4-5c6650f7edf0",
      "execution_count": null,
      "outputs": []
    },
    {
      "cell_type": "code",
      "metadata": {
        "id": "8f38c62a-3ad9-4cc0-8e62-e6decd640472"
      },
      "source": [
        "fs"
      ],
      "id": "8f38c62a-3ad9-4cc0-8e62-e6decd640472",
      "execution_count": null,
      "outputs": []
    },
    {
      "cell_type": "code",
      "metadata": {
        "id": "cec06570-8466-4c19-ad59-db57f30c0c3c"
      },
      "source": [
        "fs_gdf = gpd.GeoDataFrame(fs, geometry='geom', crs='epsg:4326')\n",
        "fs_gdf_flat = fs_gdf.to_crs('epsg:6347')\n",
        "fs_gdf_flat['geom'] = fs_gdf_flat.geometry.buffer(1000)\n",
        "fs_gdf = fs_gdf_flat.to_crs('epsg:4326')"
      ],
      "id": "cec06570-8466-4c19-ad59-db57f30c0c3c",
      "execution_count": null,
      "outputs": []
    },
    {
      "cell_type": "code",
      "metadata": {
        "id": "7d78141b-84c5-47a6-b433-a38a7ce667a7"
      },
      "source": [
        "fslats = np.array(fs['위도'])\n",
        "fslons = np.array(fs['경도'])"
      ],
      "id": "7d78141b-84c5-47a6-b433-a38a7ce667a7",
      "execution_count": null,
      "outputs": []
    },
    {
      "cell_type": "code",
      "metadata": {
        "id": "27502504-3b93-4e1d-a983-85948ebd3377"
      },
      "source": [
        "for lat, lon in zip(fslats, fslons):\n",
        "    try:\n",
        "        folium.Circle(location = [lat, lon], radius = 1000, color='black', fill_color = 'black').add_to(m2) # 반경 300m 원 그리기\n",
        "    except:\n",
        "        continue"
      ],
      "id": "27502504-3b93-4e1d-a983-85948ebd3377",
      "execution_count": null,
      "outputs": []
    },
    {
      "cell_type": "code",
      "metadata": {
        "id": "41eb3c0e-3a8c-4885-b3d7-d431a667978f"
      },
      "source": [
        "m2"
      ],
      "id": "41eb3c0e-3a8c-4885-b3d7-d431a667978f",
      "execution_count": null,
      "outputs": []
    },
    {
      "cell_type": "code",
      "metadata": {
        "id": "7d162614-6f69-4513-9739-0bf0d88607ed"
      },
      "source": [
        "# R = 6378\n",
        "# r = R * math.cos(lat_mean*math.pi/180)\n",
        "# radius = (1 / r) * (180/math.pi)\n",
        "# u3 = u\n",
        "# for i in range(len(fslats)):\n",
        "#     u2 = make_circle((fslons[i], fslats[i]), radius=radius)\n",
        "#     u3 = u3.union(u2)"
      ],
      "id": "7d162614-6f69-4513-9739-0bf0d88607ed",
      "execution_count": null,
      "outputs": []
    },
    {
      "cell_type": "markdown",
      "metadata": {
        "id": "d40203a3-1a6b-45d8-9120-3a54ef576246"
      },
      "source": [
        "## 119 구조센터 1km + AED 300m"
      ],
      "id": "d40203a3-1a6b-45d8-9120-3a54ef576246"
    },
    {
      "cell_type": "code",
      "metadata": {
        "id": "6ad1420c-8a81-4207-b41c-2d07ce365110"
      },
      "source": [
        "u2 = u\n",
        "for _, r in fs_gdf.iterrows():\n",
        "    u2 = u2.union(r['geom'])"
      ],
      "id": "6ad1420c-8a81-4207-b41c-2d07ce365110",
      "execution_count": null,
      "outputs": []
    },
    {
      "cell_type": "code",
      "metadata": {
        "id": "4ac2a286-bd61-42c2-bbe8-12e7d41af15b"
      },
      "source": [
        "m3 = folium.Map([lat_mean, lon_mean], zoom_start = 14)"
      ],
      "id": "4ac2a286-bd61-42c2-bbe8-12e7d41af15b",
      "execution_count": null,
      "outputs": []
    },
    {
      "cell_type": "code",
      "metadata": {
        "id": "f912fffe-9233-4738-bde2-d974a72584ac"
      },
      "source": [
        "for _, r in df.iterrows():\n",
        "    value = 1-cal_area(r['geometry'], u2)\n",
        "    sim_geo = gpd.GeoSeries(r['geometry'])\n",
        "    geo_j = sim_geo.to_json()\n",
        "\n",
        "    color = plt.cm.OrRd(value)\n",
        "\n",
        "    color = mpl.colors.to_hex(color)\n",
        "    \n",
        "#     geo_j = folium.GeoJson(data=geo_j,\n",
        "#                            style_function=lambda x: {'fillColor': 'orange'})\n",
        "    geo_j = folium.GeoJson(data=geo_j,\n",
        "                        style_function=lambda feature, color=color: {\n",
        "                                                                        'fillColor': color,\n",
        "                                                                        'color':\"black\",\n",
        "                                                                        'weight': 2,\n",
        "                                                                        'dashArray': '5, 5',\n",
        "                                                                        'fillOpacity': 0.8,\n",
        "                                                                    })\n",
        "\n",
        "\n",
        "    folium.Popup(f'{value:.3f}').add_to(geo_j)\n",
        "    geo_j.add_to(m3)"
      ],
      "id": "f912fffe-9233-4738-bde2-d974a72584ac",
      "execution_count": null,
      "outputs": []
    },
    {
      "cell_type": "code",
      "metadata": {
        "id": "470f722e-99f0-44b5-9c70-9d3e79ce2555"
      },
      "source": [
        "colormap = branca.colormap.linear.OrRd_06.scale(0, 1)\n",
        "colormap = colormap.to_step(index=np.linspace(0, 1, 1000))\n",
        "colormap.caption = 'Area Ratio NOT Covered by AEDs and 119 stations'\n",
        "colormap.add_to(m3)\n",
        "m3"
      ],
      "id": "470f722e-99f0-44b5-9c70-9d3e79ce2555",
      "execution_count": null,
      "outputs": []
    },
    {
      "cell_type": "markdown",
      "metadata": {
        "id": "ea7ea847-5c93-4d15-a7f7-a43ad66a5750"
      },
      "source": [
        "# 20대 남자~ 100세 이상 여성 데이터 불러오기"
      ],
      "id": "ea7ea847-5c93-4d15-a7f7-a43ad66a5750"
    },
    {
      "cell_type": "code",
      "metadata": {
        "id": "de430fb5-745d-4496-9733-855eabe32710"
      },
      "source": [
        "filenumberlist = []\n",
        "for i in range(1026, 1051+1):\n",
        "    if i % 3 != 2:\n",
        "        filenumberlist.append(i)"
      ],
      "id": "de430fb5-745d-4496-9733-855eabe32710",
      "execution_count": null,
      "outputs": []
    },
    {
      "cell_type": "code",
      "metadata": {
        "id": "4e100693-c319-4d9f-9716-86854b0f3c92"
      },
      "source": [
        "for i in range(18):\n",
        "    ageband = (i // 2 + 2) * 10\n",
        "    filenumber = filenumberlist[i]\n",
        "    if i % 2 == 0:\n",
        "        sex = '남'\n",
        "        sexa = 'm'\n",
        "    else:\n",
        "        sex = '여'\n",
        "        sexa = 'f'\n",
        "    file = f'./{ageband}{sex}/nlsp_02100{filenumber}.shp'\n",
        "    age = gpd.read_file(file, encoding='utf8')\n",
        "    age = age[['gid', 'val']]\n",
        "    age = age.rename(columns={'val':f'{sexa}{ageband}'})\n",
        "    df = pd.merge(df, age, on='gid', how='left')"
      ],
      "id": "4e100693-c319-4d9f-9716-86854b0f3c92",
      "execution_count": null,
      "outputs": []
    },
    {
      "cell_type": "code",
      "metadata": {
        "id": "ea1de249-a200-405a-9d41-2b45f686f151"
      },
      "source": [
        "df = df.drop(columns=['m20_x'])\n",
        "df = df.rename(columns={'m20_y':'m20'})"
      ],
      "id": "ea1de249-a200-405a-9d41-2b45f686f151",
      "execution_count": null,
      "outputs": []
    },
    {
      "cell_type": "code",
      "metadata": {
        "id": "833ef2d0-e14b-495e-b4d7-8b08f71f7d08"
      },
      "source": [
        "df"
      ],
      "id": "833ef2d0-e14b-495e-b4d7-8b08f71f7d08",
      "execution_count": null,
      "outputs": []
    },
    {
      "cell_type": "code",
      "metadata": {
        "id": "70f0a3e7-64a6-40d6-a4f5-5d1a2d7ed013"
      },
      "source": [
        "df = df.fillna(0)\n",
        "df"
      ],
      "id": "70f0a3e7-64a6-40d6-a4f5-5d1a2d7ed013",
      "execution_count": null,
      "outputs": []
    },
    {
      "cell_type": "markdown",
      "metadata": {
        "id": "3a46b03e-68a3-4345-8120-0e775f9ebc77"
      },
      "source": [
        "## 심정지 통계 자료에 맞춰 80세 이상으로 묶음"
      ],
      "id": "3a46b03e-68a3-4345-8120-0e775f9ebc77"
    },
    {
      "cell_type": "code",
      "metadata": {
        "id": "520dd30e-75a0-4a43-8482-984db15dc44f"
      },
      "source": [
        "df['m80+'] = df['m80'] + df['m90'] + df['m100'] \n",
        "df['f80+'] = df['f80'] + df['f90'] + df['f100']"
      ],
      "id": "520dd30e-75a0-4a43-8482-984db15dc44f",
      "execution_count": null,
      "outputs": []
    },
    {
      "cell_type": "code",
      "metadata": {
        "id": "f899b3a6-bdf0-4b04-824f-d8105ac5c5ad"
      },
      "source": [
        "df.drop(columns=['m80', 'f80', 'm90', 'f90', 'm100', 'f100'], inplace=True)"
      ],
      "id": "f899b3a6-bdf0-4b04-824f-d8105ac5c5ad",
      "execution_count": null,
      "outputs": []
    },
    {
      "cell_type": "code",
      "metadata": {
        "id": "c26c864d-2597-449a-a052-d00a2f4685d8"
      },
      "source": [
        "df"
      ],
      "id": "c26c864d-2597-449a-a052-d00a2f4685d8",
      "execution_count": null,
      "outputs": []
    },
    {
      "cell_type": "code",
      "metadata": {
        "id": "b1573052-1e53-48ea-a876-8cf27309057c"
      },
      "source": [
        "d = pd.read_csv('../심정지발생률.csv', encoding='cp949')"
      ],
      "id": "b1573052-1e53-48ea-a876-8cf27309057c",
      "execution_count": null,
      "outputs": []
    },
    {
      "cell_type": "code",
      "metadata": {
        "id": "c253d1d7-5138-4323-be17-bb6283948025"
      },
      "source": [
        "d"
      ],
      "id": "c253d1d7-5138-4323-be17-bb6283948025",
      "execution_count": null,
      "outputs": []
    },
    {
      "cell_type": "code",
      "metadata": {
        "id": "8b45997e-af2a-45be-b413-aef331153489"
      },
      "source": [
        "d = d.drop(index=[3, 13])"
      ],
      "id": "8b45997e-af2a-45be-b413-aef331153489",
      "execution_count": null,
      "outputs": []
    },
    {
      "cell_type": "code",
      "metadata": {
        "id": "be4402b4-e893-4601-bc77-bb4f243a688b"
      },
      "source": [
        "d['발생건수 (건)'] = pd.to_numeric(d['발생건수 (건)'])\n",
        "d['발생률 (인구 10만명당 명)'] = pd.to_numeric(d['발생률 (인구 10만명당 명)'])"
      ],
      "id": "be4402b4-e893-4601-bc77-bb4f243a688b",
      "execution_count": null,
      "outputs": []
    },
    {
      "cell_type": "code",
      "metadata": {
        "id": "2144fea3-eafc-41a4-aca4-fae7115cfefd"
      },
      "source": [
        "d"
      ],
      "id": "2144fea3-eafc-41a4-aca4-fae7115cfefd",
      "execution_count": null,
      "outputs": []
    },
    {
      "cell_type": "markdown",
      "metadata": {
        "id": "e7c9ec09-f0c9-4213-b720-17c5ee07cfe3"
      },
      "source": [
        "## 강남구 논문의 OHCA 식으로 계산\n",
        "$OC_i = R_m \\sum_{j=1}^kBR_j \\times PM_j + R_f \\sum_{j=1}^kBR_j \\times PF_j$  \n",
        "$OC_i$ : 공간 단위 i에서 추정된 심정지 가능 인구  \n",
        "$j$ : 연령 그룹 인덱스  \n",
        "$BR_j$ : 연령 그룹 $j$의 심정지 발생률  \n",
        "$PM_j, PF_j$ : 각각 연령 그룹 $j$의 남성, 여성 인구  \n",
        "$R_m, R_f$ : 각각 관측된 심정지 환자에서 남성과 여성의 비율"
      ],
      "id": "e7c9ec09-f0c9-4213-b720-17c5ee07cfe3"
    },
    {
      "cell_type": "code",
      "metadata": {
        "id": "01b1fefb-0390-4cd1-b388-57ad9ec0e4b8"
      },
      "source": [
        "rm = d.iloc[1, 1] / d.iloc[0, 1]\n",
        "rf = d.iloc[2, 1] / d.iloc[0, 1]\n",
        "rm, rf"
      ],
      "id": "01b1fefb-0390-4cd1-b388-57ad9ec0e4b8",
      "execution_count": null,
      "outputs": []
    },
    {
      "cell_type": "code",
      "metadata": {
        "id": "d117e6fb-c571-4765-86bd-5da30ca50a65"
      },
      "source": [
        "female = df.iloc[:, [i for i in range(2, 16) if i%2 == 1]]\n",
        "male = df.iloc[:, [i for i in range(2, 16) if i%2 == 0]]"
      ],
      "id": "d117e6fb-c571-4765-86bd-5da30ca50a65",
      "execution_count": null,
      "outputs": []
    },
    {
      "cell_type": "code",
      "metadata": {
        "id": "9ca7f133-c14e-45ad-bc12-905fb4a23947"
      },
      "source": [
        "female"
      ],
      "id": "9ca7f133-c14e-45ad-bc12-905fb4a23947",
      "execution_count": null,
      "outputs": []
    },
    {
      "cell_type": "code",
      "metadata": {
        "id": "4b424441-bea4-4c30-923f-bf1218f1141e"
      },
      "source": [
        "df['OHCA'] = 0\n",
        "df['brpm'] = 0\n",
        "df['brpf'] = 0\n",
        "df"
      ],
      "id": "4b424441-bea4-4c30-923f-bf1218f1141e",
      "execution_count": null,
      "outputs": []
    },
    {
      "cell_type": "code",
      "metadata": {
        "id": "271d5ceb-a989-4ef7-b620-8574215afe4c"
      },
      "source": [
        "for i in range(7):\n",
        "    df['brpm'] = df['brpm'] + d.iloc[i+5, 2] * male.iloc[:, i]\n",
        "    df['brpf'] = df['brpf'] + d.iloc[i+5, 2] * female.iloc[:, i]\n",
        "df['OHCA'] = (rm * df['brpm'] + rf * df['brpf']) / 100000"
      ],
      "id": "271d5ceb-a989-4ef7-b620-8574215afe4c",
      "execution_count": null,
      "outputs": []
    },
    {
      "cell_type": "code",
      "metadata": {
        "id": "5770bc73-194c-4ba5-b5ed-b198b8dc43dc"
      },
      "source": [
        "df"
      ],
      "id": "5770bc73-194c-4ba5-b5ed-b198b8dc43dc",
      "execution_count": null,
      "outputs": []
    },
    {
      "cell_type": "code",
      "metadata": {
        "id": "6f1cfb4f-7d18-4c2d-a124-1d8110d7c3a3"
      },
      "source": [
        "max_ohca = df['OHCA'].max()"
      ],
      "id": "6f1cfb4f-7d18-4c2d-a124-1d8110d7c3a3",
      "execution_count": null,
      "outputs": []
    },
    {
      "cell_type": "code",
      "metadata": {
        "id": "3892855e-70af-4d66-a141-b68ddfb5e0d1"
      },
      "source": [
        "m4 = folium.Map([lat_mean, lon_mean], zoom_start = 14)"
      ],
      "id": "3892855e-70af-4d66-a141-b68ddfb5e0d1",
      "execution_count": null,
      "outputs": []
    },
    {
      "cell_type": "code",
      "metadata": {
        "id": "ff0f48a3-3f65-479b-9e7e-2370de6e8f19"
      },
      "source": [
        "for _, r in df.iterrows():\n",
        "    sim_geo = gpd.GeoSeries(r['geometry'])\n",
        "    geo_j = sim_geo.to_json()\n",
        "    value = r['OHCA']\n",
        "    color = plt.cm.OrRd(value/max_ohca)\n",
        "\n",
        "    color = mpl.colors.to_hex(color)\n",
        "    \n",
        "#     geo_j = folium.GeoJson(data=geo_j,\n",
        "#                            style_function=lambda x: {'fillColor': 'orange'})\n",
        "    geo_j = folium.GeoJson(data=geo_j,\n",
        "                        style_function=lambda feature, color=color: {\n",
        "                                                                        'fillColor': color,\n",
        "                                                                        'color':\"black\",\n",
        "                                                                        'weight': 2,\n",
        "                                                                        'dashArray': '5, 5',\n",
        "                                                                        'fillOpacity': 0.8,\n",
        "                                                                    })\n",
        "\n",
        "\n",
        "    folium.Popup(f'{value:.3f}').add_to(geo_j)\n",
        "    geo_j.add_to(m4)"
      ],
      "id": "ff0f48a3-3f65-479b-9e7e-2370de6e8f19",
      "execution_count": null,
      "outputs": []
    },
    {
      "cell_type": "code",
      "metadata": {
        "id": "abc00490-27f4-401f-befd-49af9cf63971"
      },
      "source": [
        "colormap = branca.colormap.linear.OrRd_06.scale(0, max_ohca)\n",
        "colormap = colormap.to_step(index=np.linspace(0, max_ohca, 1000))\n",
        "colormap.caption = 'OHCA'\n",
        "colormap.add_to(m4)\n",
        "m4"
      ],
      "id": "abc00490-27f4-401f-befd-49af9cf63971",
      "execution_count": null,
      "outputs": []
    },
    {
      "cell_type": "code",
      "metadata": {
        "id": "e93d7b66-2775-4a7b-acb4-cdb0094d2c03"
      },
      "source": [
        "m5 = folium.Map([lat_mean, lon_mean], zoom_start = 14)"
      ],
      "id": "e93d7b66-2775-4a7b-acb4-cdb0094d2c03",
      "execution_count": null,
      "outputs": []
    },
    {
      "cell_type": "code",
      "metadata": {
        "id": "7b58b57d-8ed0-444f-a1ae-94089c9ca824"
      },
      "source": [
        "values = []\n",
        "for _, r in df.iterrows():\n",
        "    value = (1-cal_area(r['geometry'], u)) * r['OHCA']\n",
        "    values.append(value)\n",
        "max_value = max(values)\n",
        "for i, r in df.iterrows():\n",
        "    value = values[i]\n",
        "    sim_geo = gpd.GeoSeries(r['geometry'])\n",
        "    geo_j = sim_geo.to_json()\n",
        "\n",
        "    color = plt.cm.OrRd(value / max_value)\n",
        "\n",
        "    color = mpl.colors.to_hex(color)\n",
        "    \n",
        "#     geo_j = folium.GeoJson(data=geo_j,\n",
        "#                            style_function=lambda x: {'fillColor': 'orange'})\n",
        "    geo_j = folium.GeoJson(data=geo_j,\n",
        "                        style_function=lambda feature, color=color: {\n",
        "                                                                        'fillColor': color,\n",
        "                                                                        'color':\"black\",\n",
        "                                                                        'weight': 2,\n",
        "                                                                        'dashArray': '5, 5',\n",
        "                                                                        'fillOpacity': 0.8,\n",
        "                                                                    })\n",
        "\n",
        "\n",
        "    folium.Popup(f'{value:.3f}').add_to(geo_j)\n",
        "    geo_j.add_to(m5)"
      ],
      "id": "7b58b57d-8ed0-444f-a1ae-94089c9ca824",
      "execution_count": null,
      "outputs": []
    },
    {
      "cell_type": "code",
      "metadata": {
        "id": "60211a1e-7918-445a-b507-cdbc9bc2181b"
      },
      "source": [
        "colormap = branca.colormap.linear.OrRd_06.scale(0, max_value)\n",
        "colormap = colormap.to_step(index=np.linspace(0, max_value, 1000))\n",
        "colormap.caption = 'OHCA × Area Ratio not covered by AEDs'\n",
        "colormap.add_to(m5)\n",
        "m5"
      ],
      "id": "60211a1e-7918-445a-b507-cdbc9bc2181b",
      "execution_count": null,
      "outputs": []
    },
    {
      "cell_type": "code",
      "metadata": {
        "id": "c17541ec-0f2f-4a2f-9ba6-a2c02fd02137"
      },
      "source": [
        "m6 = folium.Map([lat_mean, lon_mean], zoom_start = 14)"
      ],
      "id": "c17541ec-0f2f-4a2f-9ba6-a2c02fd02137",
      "execution_count": null,
      "outputs": []
    },
    {
      "cell_type": "code",
      "metadata": {
        "id": "8c93e86a-94b0-408f-99e4-0cf3ec760763"
      },
      "source": [
        "values = []\n",
        "for _, r in df.iterrows():\n",
        "    value = (1-cal_area(r['geometry'], u2)) * r['OHCA']\n",
        "    values.append(value)\n",
        "max_value = max(values)\n",
        "for i, r in df.iterrows():\n",
        "    value = values[i]\n",
        "    sim_geo = gpd.GeoSeries(r['geometry'])\n",
        "    geo_j = sim_geo.to_json()\n",
        "\n",
        "    color = plt.cm.Reds(value/max_value)\n",
        "\n",
        "    color = mpl.colors.to_hex(color)\n",
        "    \n",
        "#     geo_j = folium.GeoJson(data=geo_j,\n",
        "#                            style_function=lambda x: {'fillColor': 'orange'})\n",
        "    if -0.01 < value < 0.01:\n",
        "        geo_j = folium.GeoJson(data=geo_j,\n",
        "                        style_function=lambda feature, color=color: {\n",
        "                                                                        'fillColor': color,\n",
        "                                                                        'color':\"black\",\n",
        "                                                                        'weight': 0.5,\n",
        "                                                                        'dashArray': '5, 5',\n",
        "                                                                        'fillOpacity': 0,\n",
        "                                                                    })\n",
        "    else:\n",
        "        geo_j = folium.GeoJson(data=geo_j,\n",
        "                        style_function=lambda feature, color=color: {\n",
        "                                                                        'fillColor': color,\n",
        "                                                                        'color':\"black\",\n",
        "                                                                        'weight': 0.5,\n",
        "                                                                        'dashArray': '5, 5',\n",
        "                                                                        'fillOpacity': 0.8,\n",
        "                                                                    })\n",
        "\n",
        "\n",
        "    folium.Popup(f'{value:.3f}').add_to(geo_j)\n",
        "    geo_j.add_to(m6)"
      ],
      "id": "8c93e86a-94b0-408f-99e4-0cf3ec760763",
      "execution_count": null,
      "outputs": []
    },
    {
      "cell_type": "code",
      "metadata": {
        "id": "efa8b7bd-bd61-4039-a66a-21024a5c673d"
      },
      "source": [
        "colormap = branca.colormap.linear.Reds_05.scale(0, max_value)\n",
        "colormap = colormap.to_step(index=np.linspace(0, max_value, 1000))\n",
        "colormap.caption = 'OHCA × Area Ratio not covered by AEDs and 119 stations'\n",
        "colormap.add_to(m6)\n",
        "m6"
      ],
      "id": "efa8b7bd-bd61-4039-a66a-21024a5c673d",
      "execution_count": null,
      "outputs": []
    },
    {
      "cell_type": "code",
      "metadata": {
        "id": "9555d811-1b52-4d52-a8b5-82c232fa010f"
      },
      "source": [
        ""
      ],
      "id": "9555d811-1b52-4d52-a8b5-82c232fa010f",
      "execution_count": null,
      "outputs": []
    },
    {
      "cell_type": "code",
      "metadata": {
        "id": "26325544-cc3c-42c1-bf4f-a263a9fde523"
      },
      "source": [
        ""
      ],
      "id": "26325544-cc3c-42c1-bf4f-a263a9fde523",
      "execution_count": null,
      "outputs": []
    }
  ]
}